{
 "cells": [
  {
   "cell_type": "code",
   "execution_count": 1,
   "metadata": {
    "collapsed": true
   },
   "outputs": [],
   "source": [
    "%matplotlib inline\n",
    "import numpy as np\n",
    "import pandas as pd\n",
    "import matplotlib.pyplot as plt"
   ]
  },
  {
   "cell_type": "code",
   "execution_count": 2,
   "metadata": {
    "collapsed": true
   },
   "outputs": [],
   "source": [
    "#Read file\n",
    "df=pd.read_excel(\"../OLOORDERS.xlsx\")"
   ]
  },
  {
   "cell_type": "code",
   "execution_count": 3,
   "metadata": {
    "collapsed": false
   },
   "outputs": [
    {
     "data": {
      "text/html": [
       "<div>\n",
       "<table border=\"1\" class=\"dataframe\">\n",
       "  <thead>\n",
       "    <tr style=\"text-align: right;\">\n",
       "      <th></th>\n",
       "      <th>WEB</th>\n",
       "      <th>CDis</th>\n",
       "      <th>Agen come</th>\n",
       "      <th>GVen</th>\n",
       "      <th>cod_venta</th>\n",
       "      <th>Cliente</th>\n",
       "      <th>Nombre</th>\n",
       "      <th>Posición</th>\n",
       "      <th>Fecha crea</th>\n",
       "      <th>Producto</th>\n",
       "      <th>Descripcion</th>\n",
       "      <th>Cantidad</th>\n",
       "      <th>UM</th>\n",
       "      <th>Venta neta</th>\n",
       "      <th>Moneda</th>\n",
       "    </tr>\n",
       "  </thead>\n",
       "  <tbody>\n",
       "    <tr>\n",
       "      <th>0</th>\n",
       "      <td>NEWOLO</td>\n",
       "      <td>20</td>\n",
       "      <td>5</td>\n",
       "      <td>17</td>\n",
       "      <td>101303229</td>\n",
       "      <td>40570</td>\n",
       "      <td>SUMINISTROS DE P. E I. DAVID,S.A.</td>\n",
       "      <td>10</td>\n",
       "      <td>2016-10-31</td>\n",
       "      <td>000001228</td>\n",
       "      <td>B.L/C PET BL.  210,0X297,0 20H</td>\n",
       "      <td>1</td>\n",
       "      <td>UN</td>\n",
       "      <td>11.45</td>\n",
       "      <td>EUR</td>\n",
       "    </tr>\n",
       "    <tr>\n",
       "      <th>1</th>\n",
       "      <td>NEWOLO</td>\n",
       "      <td>20</td>\n",
       "      <td>5</td>\n",
       "      <td>17</td>\n",
       "      <td>101303229</td>\n",
       "      <td>40570</td>\n",
       "      <td>SUMINISTROS DE P. E I. DAVID,S.A.</td>\n",
       "      <td>20</td>\n",
       "      <td>2016-10-31</td>\n",
       "      <td>000001270</td>\n",
       "      <td>C.I/L/C        70,0X 25,4 100H</td>\n",
       "      <td>1</td>\n",
       "      <td>UN</td>\n",
       "      <td>9.74</td>\n",
       "      <td>EUR</td>\n",
       "    </tr>\n",
       "    <tr>\n",
       "      <th>2</th>\n",
       "      <td>NEWOLO</td>\n",
       "      <td>20</td>\n",
       "      <td>5</td>\n",
       "      <td>9</td>\n",
       "      <td>101303230</td>\n",
       "      <td>13995</td>\n",
       "      <td>INBAR, S.L.</td>\n",
       "      <td>10</td>\n",
       "      <td>2016-10-31</td>\n",
       "      <td>000012769</td>\n",
       "      <td>B.GOMA EVA BLANCO         400X600X2MM 5H</td>\n",
       "      <td>1</td>\n",
       "      <td>UN</td>\n",
       "      <td>1.74</td>\n",
       "      <td>EUR</td>\n",
       "    </tr>\n",
       "    <tr>\n",
       "      <th>3</th>\n",
       "      <td>NEWOLO</td>\n",
       "      <td>20</td>\n",
       "      <td>5</td>\n",
       "      <td>9</td>\n",
       "      <td>101303230</td>\n",
       "      <td>13995</td>\n",
       "      <td>INBAR, S.L.</td>\n",
       "      <td>20</td>\n",
       "      <td>2016-10-31</td>\n",
       "      <td>000012768</td>\n",
       "      <td>B.GOMA EVA NEGRO          400X600X2MM 5H</td>\n",
       "      <td>1</td>\n",
       "      <td>UN</td>\n",
       "      <td>1.74</td>\n",
       "      <td>EUR</td>\n",
       "    </tr>\n",
       "    <tr>\n",
       "      <th>4</th>\n",
       "      <td>NEWOLO</td>\n",
       "      <td>20</td>\n",
       "      <td>5</td>\n",
       "      <td>18</td>\n",
       "      <td>101302933</td>\n",
       "      <td>105277</td>\n",
       "      <td>DISPLAST, S.L.</td>\n",
       "      <td>10</td>\n",
       "      <td>2016-10-28</td>\n",
       "      <td>000010532</td>\n",
       "      <td>C.MULTI3      210,0X148,0 500H</td>\n",
       "      <td>6</td>\n",
       "      <td>UN</td>\n",
       "      <td>96.00</td>\n",
       "      <td>EUR</td>\n",
       "    </tr>\n",
       "  </tbody>\n",
       "</table>\n",
       "</div>"
      ],
      "text/plain": [
       "      WEB  CDis  Agen come  GVen  cod_venta  Cliente  \\\n",
       "0  NEWOLO    20          5    17  101303229    40570   \n",
       "1  NEWOLO    20          5    17  101303229    40570   \n",
       "2  NEWOLO    20          5     9  101303230    13995   \n",
       "3  NEWOLO    20          5     9  101303230    13995   \n",
       "4  NEWOLO    20          5    18  101302933   105277   \n",
       "\n",
       "                              Nombre  Posición Fecha crea   Producto  \\\n",
       "0  SUMINISTROS DE P. E I. DAVID,S.A.        10 2016-10-31  000001228   \n",
       "1  SUMINISTROS DE P. E I. DAVID,S.A.        20 2016-10-31  000001270   \n",
       "2                        INBAR, S.L.        10 2016-10-31  000012769   \n",
       "3                        INBAR, S.L.        20 2016-10-31  000012768   \n",
       "4                     DISPLAST, S.L.        10 2016-10-28  000010532   \n",
       "\n",
       "                                Descripcion  Cantidad  UM  Venta neta Moneda  \n",
       "0            B.L/C PET BL.  210,0X297,0 20H         1  UN       11.45    EUR  \n",
       "1            C.I/L/C        70,0X 25,4 100H         1  UN        9.74    EUR  \n",
       "2  B.GOMA EVA BLANCO         400X600X2MM 5H         1  UN        1.74    EUR  \n",
       "3  B.GOMA EVA NEGRO          400X600X2MM 5H         1  UN        1.74    EUR  \n",
       "4            C.MULTI3      210,0X148,0 500H         6  UN       96.00    EUR  "
      ]
     },
     "execution_count": 3,
     "metadata": {},
     "output_type": "execute_result"
    }
   ],
   "source": [
    "df.columns = [u'WEB', u'CDis', u'Agen come', u'GVen', u'cod_venta', u'Cliente', \n",
    "              u'Nombre', u'Posición', u'Fecha crea', u'Producto', u'Descripcion', \n",
    "              u'Cantidad', u'UM', u'Venta neta', u'Moneda']\n",
    "df.head()"
   ]
  },
  {
   "cell_type": "code",
   "execution_count": 4,
   "metadata": {
    "collapsed": false
   },
   "outputs": [
    {
     "data": {
      "text/plain": [
       "1905"
      ]
     },
     "execution_count": 4,
     "metadata": {},
     "output_type": "execute_result"
    }
   ],
   "source": [
    "#Number customers\n",
    "len(df.Cliente.unique())"
   ]
  },
  {
   "cell_type": "code",
   "execution_count": 5,
   "metadata": {
    "collapsed": false
   },
   "outputs": [
    {
     "data": {
      "text/plain": [
       "2908"
      ]
     },
     "execution_count": 5,
     "metadata": {},
     "output_type": "execute_result"
    }
   ],
   "source": [
    "#Number products\n",
    "len(df.Producto.unique())"
   ]
  },
  {
   "cell_type": "code",
   "execution_count": 6,
   "metadata": {
    "collapsed": false
   },
   "outputs": [
    {
     "data": {
      "text/plain": [
       "66888"
      ]
     },
     "execution_count": 6,
     "metadata": {},
     "output_type": "execute_result"
    }
   ],
   "source": [
    "#Number orders\n",
    "len(df.cod_venta.unique())"
   ]
  },
  {
   "cell_type": "code",
   "execution_count": 7,
   "metadata": {
    "collapsed": false
   },
   "outputs": [
    {
     "name": "stdout",
     "output_type": "stream",
     "text": [
      "2016-03-01 00:00:00\n",
      "2017-03-25 00:00:00\n"
     ]
    }
   ],
   "source": [
    "#Dates\n",
    "print df['Fecha crea'].min()\n",
    "print df['Fecha crea'].max()"
   ]
  },
  {
   "cell_type": "code",
   "execution_count": 8,
   "metadata": {
    "collapsed": false
   },
   "outputs": [
    {
     "data": {
      "text/plain": [
       "<matplotlib.text.Text at 0x7fdb5f4fec90>"
      ]
     },
     "execution_count": 8,
     "metadata": {},
     "output_type": "execute_result"
    },
    {
     "data": {
      "image/png": "[encoded data removed]",
      "text/plain": [
       "<matplotlib.figure.Figure at 0x7fdb604b7a50>"
      ]
     },
     "metadata": {},
     "output_type": "display_data"
    }
   ],
   "source": [
    "#Histogram Products by order\n",
    "gr=df.groupby([\"cod_venta\"])[\"Producto\"].apply(list)\n",
    "size_comandes=[len(gr.iloc[i]) for i in np.arange(len(gr)) if len(gr.iloc[i])<75]\n",
    "max_bins=max(size_comandes)\n",
    "ax=pd.Series(size_comandes).hist(bins=max_bins)\n",
    "plt.title(\"Products by order\")\n",
    "ax.set_xlabel(\"Number of products\")\n",
    "ax.set_ylabel(\"Frequency\")"
   ]
  },
  {
   "cell_type": "code",
   "execution_count": 9,
   "metadata": {
    "collapsed": false
   },
   "outputs": [
    {
     "data": {
      "text/plain": [
       "<matplotlib.text.Text at 0x7fdb5de60990>"
      ]
     },
     "execution_count": 9,
     "metadata": {},
     "output_type": "execute_result"
    },
    {
     "data": {
      "image/png": "[encoded data removed]",
      "text/plain": [
       "<matplotlib.figure.Figure at 0x7fdb5b13f390>"
      ]
     },
     "metadata": {},
     "output_type": "display_data"
    }
   ],
   "source": [
    "#Histogram Orders by customer\n",
    "gr=df.groupby([\"Cliente\"])[\"cod_venta\"].apply(list)\n",
    "size_comandes_4clients=[len(np.unique(gr.iloc[i])) for i in np.arange(len(gr))]\n",
    "size_comandes_4clients=pd.Series(size_comandes)\n",
    "size_comandes_4clients=size_comandes_4clients[size_comandes_4clients<50]\n",
    "max_bins=max(size_comandes_4clients)\n",
    "ax=size_comandes_4clients.hist(bins=max_bins)\n",
    "plt.title(\"Orders by customer\")\n",
    "ax.set_xlabel(\"Number of orders\")\n",
    "ax.set_ylabel(\"Frequency\")\n",
    "#pd.Series(size_comandes_4clients).hist(bins=max_bins)"
   ]
  },
  {
   "cell_type": "code",
   "execution_count": 10,
   "metadata": {
    "collapsed": false
   },
   "outputs": [
    {
     "name": "stdout",
     "output_type": "stream",
     "text": [
      "(2657, 2)\n"
     ]
    },
    {
     "data": {
      "text/html": [
       "<div>\n",
       "<table border=\"1\" class=\"dataframe\">\n",
       "  <thead>\n",
       "    <tr style=\"text-align: right;\">\n",
       "      <th></th>\n",
       "      <th>Area</th>\n",
       "      <th>Material</th>\n",
       "    </tr>\n",
       "  </thead>\n",
       "  <tbody>\n",
       "    <tr>\n",
       "      <th>0</th>\n",
       "      <td>143</td>\n",
       "      <td>000001776</td>\n",
       "    </tr>\n",
       "    <tr>\n",
       "      <th>1</th>\n",
       "      <td>143</td>\n",
       "      <td>000001777</td>\n",
       "    </tr>\n",
       "    <tr>\n",
       "      <th>2</th>\n",
       "      <td>143</td>\n",
       "      <td>000001778</td>\n",
       "    </tr>\n",
       "    <tr>\n",
       "      <th>3</th>\n",
       "      <td>143</td>\n",
       "      <td>000001781</td>\n",
       "    </tr>\n",
       "    <tr>\n",
       "      <th>4</th>\n",
       "      <td>143</td>\n",
       "      <td>000001782</td>\n",
       "    </tr>\n",
       "  </tbody>\n",
       "</table>\n",
       "</div>"
      ],
      "text/plain": [
       "   Area   Material\n",
       "0   143  000001776\n",
       "1   143  000001777\n",
       "2   143  000001778\n",
       "3   143  000001781\n",
       "4   143  000001782"
      ]
     },
     "execution_count": 10,
     "metadata": {},
     "output_type": "execute_result"
    }
   ],
   "source": [
    "#Read families\n",
    "families=pd.read_csv(\"../Dades/Asignacion_productos.csv\")\n",
    "families = families.drop(families.columns[[0, 1, 3, 4, 5, 6, 7, 9, 10]], 1)\n",
    "families.columns=[\"Area\", \"Material\"]\n",
    "print families.shape\n",
    "families.head()"
   ]
  },
  {
   "cell_type": "code",
   "execution_count": 11,
   "metadata": {
    "collapsed": false
   },
   "outputs": [
    {
     "data": {
      "text/plain": [
       "167"
      ]
     },
     "execution_count": 11,
     "metadata": {},
     "output_type": "execute_result"
    }
   ],
   "source": [
    "#Numer families\n",
    "len(families['Area'].unique())"
   ]
  },
  {
   "cell_type": "code",
   "execution_count": 12,
   "metadata": {
    "collapsed": false
   },
   "outputs": [
    {
     "data": {
      "text/plain": [
       "<matplotlib.text.Text at 0x7fdb602e7950>"
      ]
     },
     "execution_count": 12,
     "metadata": {},
     "output_type": "execute_result"
    },
    {
     "data": {
      "image/png": "[encoded data removed]",
      "text/plain": [
       "<matplotlib.figure.Figure at 0x7fdb5af33610>"
      ]
     },
     "metadata": {},
     "output_type": "display_data"
    }
   ],
   "source": [
    "#Number products by family\n",
    "gr=families.groupby(['Area'])['Material'].count()\n",
    "ax=gr.hist(bins=10)\n",
    "plt.title(\"Products by family\")\n",
    "ax.set_xlabel(\"Number of products\")\n",
    "ax.set_ylabel(\"Frequency\")"
   ]
  },
  {
   "cell_type": "code",
   "execution_count": 13,
   "metadata": {
    "collapsed": false
   },
   "outputs": [],
   "source": [
    "# Intersect products from OLO and families\n",
    "def intersect(a, b):\n",
    "    return list(set(a) & set(b))\n",
    "\n",
    "ProductsList=np.unique(np.array(df[\"Producto\"]))\n",
    "ProductsList_intersect=intersect(ProductsList, families[\"Material\"].values)\n",
    "df=df.loc[df['Producto'].isin(ProductsList_intersect)]\n",
    "\n",
    "# Groupby Cliente and ProductsList\n",
    "gr=df.groupby([\"Cliente\"])[\"Producto\"].apply(list)\n",
    "prod=pd.DataFrame(gr)\n",
    "ProductsList=np.unique(np.array(df[\"Producto\"]))\n",
    "\n",
    "# Create ratings\n",
    "ratings=pd.DataFrame(index=prod.index, columns=ProductsList)\n",
    "ratings=ratings.fillna(0)\n",
    "for i in np.arange(len(prod)):\n",
    "    for j in np.arange(len(prod[prod.index==prod.index[i]][\"Producto\"].values[0])):\n",
    "        ratings.loc[prod.index[i], prod[prod.index==prod.index[i]][\"Producto\"].values[0][j]]+=1"
   ]
  },
  {
   "cell_type": "code",
   "execution_count": 14,
   "metadata": {
    "collapsed": false
   },
   "outputs": [],
   "source": [
    "train_list=[]\n",
    "train_cont=[]\n",
    "\n",
    "for user in ratings.index:\n",
    "    #aux=intersect(ratings_train.loc[user][ratings_train.loc[user]!=0.0].index, train_prod)\n",
    "    aux=list(ratings.loc[user][ratings.loc[user]!=0.0].index)\n",
    "    train_list.append(aux)\n",
    "    train_cont.append(len(aux))"
   ]
  },
  {
   "cell_type": "code",
   "execution_count": 15,
   "metadata": {
    "collapsed": false
   },
   "outputs": [],
   "source": [
    "cont=pd.Series(train_cont)"
   ]
  },
  {
   "cell_type": "code",
   "execution_count": 16,
   "metadata": {
    "collapsed": false
   },
   "outputs": [
    {
     "data": {
      "text/plain": [
       "<matplotlib.text.Text at 0x7fdb53981d50>"
      ]
     },
     "execution_count": 16,
     "metadata": {},
     "output_type": "execute_result"
    },
    {
     "data": {
      "image/png": "[encoded data removed]",
      "text/plain": [
       "<matplotlib.figure.Figure at 0x7fdb5ae59810>"
      ]
     },
     "metadata": {},
     "output_type": "display_data"
    }
   ],
   "source": [
    "#Products by customer\n",
    "ax=cont.hist(bins=50)\n",
    "plt.title(\"Products by customer\")\n",
    "ax.set_xlabel(\"Number of products\")\n",
    "ax.set_ylabel(\"Frequency\")"
   ]
  },
  {
   "cell_type": "code",
   "execution_count": 17,
   "metadata": {
    "collapsed": false
   },
   "outputs": [
    {
     "data": {
      "text/plain": [
       "<matplotlib.text.Text at 0x7fdb5a905910>"
      ]
     },
     "execution_count": 17,
     "metadata": {},
     "output_type": "execute_result"
    },
    {
     "data": {
      "image/png": "[encoded data removed]",
      "text/plain": [
       "<matplotlib.figure.Figure at 0x7fdb5a84a7d0>"
      ]
     },
     "metadata": {},
     "output_type": "display_data"
    }
   ],
   "source": [
    "#Products by customer with less 50 products\n",
    "ax=cont[cont<50].hist(bins=20)\n",
    "plt.title(\"Products by customer with less 50 products\")\n",
    "ax.set_xlabel(\"Number of products\")\n",
    "ax.set_ylabel(\"Frequency\")"
   ]
  },
  {
   "cell_type": "code",
   "execution_count": null,
   "metadata": {
    "collapsed": true
   },
   "outputs": [],
   "source": []
  }
 ],
 "metadata": {
  "kernelspec": {
   "display_name": "Python 2",
   "language": "python",
   "name": "python2"
  },
  "language_info": {
   "codemirror_mode": {
    "name": "ipython",
    "version": 2
   },
   "file_extension": ".py",
   "mimetype": "text/x-python",
   "name": "python",
   "nbconvert_exporter": "python",
   "pygments_lexer": "ipython2",
   "version": "2.7.12"
  }
 },
 "nbformat": 4,
 "nbformat_minor": 2
}
