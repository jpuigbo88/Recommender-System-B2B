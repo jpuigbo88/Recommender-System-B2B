{
 "cells": [
  {
   "cell_type": "code",
   "execution_count": 1,
   "metadata": {
    "collapsed": true
   },
   "outputs": [],
   "source": [
    "%store -d df\n",
    "%store -d families\n",
    "%store -d ratings\n",
    "%store -d ratings_train\n",
    "%store -d ratings_test\n",
    "%store -d train\n",
    "%store -d test\n",
    "%store -d pr_sim\n",
    "%store -d pred_df\n",
    "%store -d output\n",
    "%store -d recommendations"
   ]
  },
  {
   "cell_type": "code",
   "execution_count": 2,
   "metadata": {
    "collapsed": true
   },
   "outputs": [],
   "source": [
    "import numpy as np\n",
    "import pandas as pd\n",
    "import random\n",
    "from scipy.stats import pearsonr\n",
    "from math import isnan\n",
    "import time\n",
    "import networkx as nx\n",
    "import re"
   ]
  },
  {
   "cell_type": "code",
   "execution_count": 3,
   "metadata": {
    "collapsed": false
   },
   "outputs": [
    {
     "data": {
      "text/html": [
       "<div>\n",
       "<table border=\"1\" class=\"dataframe\">\n",
       "  <thead>\n",
       "    <tr style=\"text-align: right;\">\n",
       "      <th></th>\n",
       "      <th>cod_venta</th>\n",
       "      <th>Cliente</th>\n",
       "      <th>Posición</th>\n",
       "      <th>Fecha crea</th>\n",
       "      <th>Producto</th>\n",
       "      <th>Descripcion</th>\n",
       "      <th>Cantidad</th>\n",
       "      <th>UM</th>\n",
       "      <th>Venta neta</th>\n",
       "      <th>Moneda</th>\n",
       "    </tr>\n",
       "  </thead>\n",
       "  <tbody>\n",
       "    <tr>\n",
       "      <th>0</th>\n",
       "      <td>101303229</td>\n",
       "      <td>40570</td>\n",
       "      <td>10</td>\n",
       "      <td>2016-10-31</td>\n",
       "      <td>000001228</td>\n",
       "      <td>B.L/C PET BL.  210,0X297,0 20H</td>\n",
       "      <td>1</td>\n",
       "      <td>UN</td>\n",
       "      <td>11.45</td>\n",
       "      <td>EUR</td>\n",
       "    </tr>\n",
       "    <tr>\n",
       "      <th>1</th>\n",
       "      <td>101303229</td>\n",
       "      <td>40570</td>\n",
       "      <td>20</td>\n",
       "      <td>2016-10-31</td>\n",
       "      <td>000001270</td>\n",
       "      <td>C.I/L/C        70,0X 25,4 100H</td>\n",
       "      <td>1</td>\n",
       "      <td>UN</td>\n",
       "      <td>9.74</td>\n",
       "      <td>EUR</td>\n",
       "    </tr>\n",
       "    <tr>\n",
       "      <th>2</th>\n",
       "      <td>101303230</td>\n",
       "      <td>13995</td>\n",
       "      <td>10</td>\n",
       "      <td>2016-10-31</td>\n",
       "      <td>000012769</td>\n",
       "      <td>B.GOMA EVA BLANCO         400X600X2MM 5H</td>\n",
       "      <td>1</td>\n",
       "      <td>UN</td>\n",
       "      <td>1.74</td>\n",
       "      <td>EUR</td>\n",
       "    </tr>\n",
       "    <tr>\n",
       "      <th>3</th>\n",
       "      <td>101303230</td>\n",
       "      <td>13995</td>\n",
       "      <td>20</td>\n",
       "      <td>2016-10-31</td>\n",
       "      <td>000012768</td>\n",
       "      <td>B.GOMA EVA NEGRO          400X600X2MM 5H</td>\n",
       "      <td>1</td>\n",
       "      <td>UN</td>\n",
       "      <td>1.74</td>\n",
       "      <td>EUR</td>\n",
       "    </tr>\n",
       "    <tr>\n",
       "      <th>4</th>\n",
       "      <td>101302933</td>\n",
       "      <td>105277</td>\n",
       "      <td>10</td>\n",
       "      <td>2016-10-28</td>\n",
       "      <td>000010532</td>\n",
       "      <td>C.MULTI3      210,0X148,0 500H</td>\n",
       "      <td>6</td>\n",
       "      <td>UN</td>\n",
       "      <td>96.00</td>\n",
       "      <td>EUR</td>\n",
       "    </tr>\n",
       "  </tbody>\n",
       "</table>\n",
       "</div>"
      ],
      "text/plain": [
       "   cod_venta  Cliente  Posición Fecha crea   Producto  \\\n",
       "0  101303229    40570        10 2016-10-31  000001228   \n",
       "1  101303229    40570        20 2016-10-31  000001270   \n",
       "2  101303230    13995        10 2016-10-31  000012769   \n",
       "3  101303230    13995        20 2016-10-31  000012768   \n",
       "4  101302933   105277        10 2016-10-28  000010532   \n",
       "\n",
       "                                Descripcion  Cantidad  UM  Venta neta Moneda  \n",
       "0            B.L/C PET BL.  210,0X297,0 20H         1  UN       11.45    EUR  \n",
       "1            C.I/L/C        70,0X 25,4 100H         1  UN        9.74    EUR  \n",
       "2  B.GOMA EVA BLANCO         400X600X2MM 5H         1  UN        1.74    EUR  \n",
       "3  B.GOMA EVA NEGRO          400X600X2MM 5H         1  UN        1.74    EUR  \n",
       "4            C.MULTI3      210,0X148,0 500H         6  UN       96.00    EUR  "
      ]
     },
     "execution_count": 3,
     "metadata": {},
     "output_type": "execute_result"
    }
   ],
   "source": [
    "global_time = time.time()\n",
    "# Read OLO\n",
    "df=pd.read_excel(\"../../OLOORDERS.xlsx\")\n",
    "\n",
    "df.columns = [u'WEB', u'CDis', u'Agen come', u'GVen', u'cod_venta', u'Cliente', \n",
    "              u'Nombre', u'Posición', u'Fecha crea', u'Producto', u'Descripcion', \n",
    "              u'Cantidad', u'UM', u'Venta neta', u'Moneda']\n",
    "\n",
    "df=df.drop([u'WEB', u'CDis', u'Agen come', u'GVen', u'Nombre'], axis=1)\n",
    "\n",
    "df.head()"
   ]
  },
  {
   "cell_type": "code",
   "execution_count": 4,
   "metadata": {
    "collapsed": false
   },
   "outputs": [
    {
     "name": "stdout",
     "output_type": "stream",
     "text": [
      "(2657, 2)\n"
     ]
    },
    {
     "data": {
      "text/html": [
       "<div>\n",
       "<table border=\"1\" class=\"dataframe\">\n",
       "  <thead>\n",
       "    <tr style=\"text-align: right;\">\n",
       "      <th></th>\n",
       "      <th>Area</th>\n",
       "      <th>Material</th>\n",
       "    </tr>\n",
       "  </thead>\n",
       "  <tbody>\n",
       "    <tr>\n",
       "      <th>0</th>\n",
       "      <td>143</td>\n",
       "      <td>000001776</td>\n",
       "    </tr>\n",
       "    <tr>\n",
       "      <th>1</th>\n",
       "      <td>143</td>\n",
       "      <td>000001777</td>\n",
       "    </tr>\n",
       "    <tr>\n",
       "      <th>2</th>\n",
       "      <td>143</td>\n",
       "      <td>000001778</td>\n",
       "    </tr>\n",
       "    <tr>\n",
       "      <th>3</th>\n",
       "      <td>143</td>\n",
       "      <td>000001781</td>\n",
       "    </tr>\n",
       "    <tr>\n",
       "      <th>4</th>\n",
       "      <td>143</td>\n",
       "      <td>000001782</td>\n",
       "    </tr>\n",
       "  </tbody>\n",
       "</table>\n",
       "</div>"
      ],
      "text/plain": [
       "   Area   Material\n",
       "0   143  000001776\n",
       "1   143  000001777\n",
       "2   143  000001778\n",
       "3   143  000001781\n",
       "4   143  000001782"
      ]
     },
     "execution_count": 4,
     "metadata": {},
     "output_type": "execute_result"
    }
   ],
   "source": [
    "#Read families\n",
    "families=pd.read_csv(\"../../Dades/Asignacion_productos.csv\")\n",
    "families = families.drop(families.columns[[0, 1, 3, 4, 5, 6, 7, 9, 10]], 1)\n",
    "families.columns=[\"Area\", \"Material\"]\n",
    "print families.shape\n",
    "families.head()"
   ]
  },
  {
   "cell_type": "code",
   "execution_count": 5,
   "metadata": {
    "collapsed": true
   },
   "outputs": [],
   "source": [
    "# Intersect products from OLO and families\n",
    "def intersect(a, b):\n",
    "    return list(set(a) & set(b))\n",
    "\n",
    "ProductsList=np.unique(np.array(df[\"Producto\"]))\n",
    "ProductsList_intersect=intersect(ProductsList, families[\"Material\"].values)\n",
    "df=df.loc[df['Producto'].isin(ProductsList_intersect)]"
   ]
  },
  {
   "cell_type": "code",
   "execution_count": 6,
   "metadata": {
    "collapsed": true
   },
   "outputs": [],
   "source": [
    "# Groupby Cliente and ProductsList\n",
    "gr=df.groupby([\"Cliente\"])[\"Producto\"].apply(list)\n",
    "prod=pd.DataFrame(gr)\n",
    "ProductsList=np.unique(np.array(df[\"Producto\"]))"
   ]
  },
  {
   "cell_type": "code",
   "execution_count": 7,
   "metadata": {
    "collapsed": false
   },
   "outputs": [
    {
     "name": "stdout",
     "output_type": "stream",
     "text": [
      "Minutes: 4.58246119817\n",
      "Minutes: 0.250515751044\n"
     ]
    }
   ],
   "source": [
    "# Create ratings\n",
    "start_time = time.time()\n",
    "ratings=pd.DataFrame(index=prod.index, columns=ProductsList)\n",
    "ratings=ratings.fillna(0)\n",
    "for i in np.arange(len(prod)):\n",
    "    for j in np.arange(len(prod[prod.index==prod.index[i]][\"Producto\"].values[0])):\n",
    "        ratings.loc[prod.index[i], prod[prod.index==prod.index[i]][\"Producto\"].values[0][j]]+=1\n",
    "print(\"Minutes: \" + str((time.time() - start_time)/60.0))\n",
    "\n",
    "# Normalize ratings\n",
    "start_time = time.time()\n",
    "for user in ratings.index:\n",
    "    ratings.loc[user]=ratings.loc[user]/ratings.loc[user].sum()\n",
    "print(\"Minutes: \" + str((time.time() - start_time)/60.0))"
   ]
  },
  {
   "cell_type": "code",
   "execution_count": 8,
   "metadata": {
    "collapsed": true
   },
   "outputs": [],
   "source": [
    "#Train and test index\n",
    "np.random.seed(40)\n",
    "no_null_index={}\n",
    "for item in ratings.columns:\n",
    "     no_null_index[item]=ratings[item][ratings[item]!=0.0].index.tolist()\n",
    "\n",
    "train_index={}\n",
    "test_index={}\n",
    "for item in no_null_index.keys():\n",
    "    test_index[item]=np.random.choice(no_null_index[item], int(0.2*len(no_null_index[item])))\n",
    "    train_index[item]=list(set(no_null_index[item])-set(test_index[item]))"
   ]
  },
  {
   "cell_type": "code",
   "execution_count": 9,
   "metadata": {
    "collapsed": false
   },
   "outputs": [
    {
     "name": "stdout",
     "output_type": "stream",
     "text": [
      "Minutes: 1.33062921365\n",
      "Minutes: 0.00151943365733\n",
      "Minutes: 3.49925074975\n"
     ]
    }
   ],
   "source": [
    "# Create ratings train\n",
    "start_time = time.time()\n",
    "ratings_train=pd.DataFrame(index=prod.index, columns=ProductsList)\n",
    "ratings_train=ratings_train.fillna(0.0)\n",
    "for item in train_index.keys():\n",
    "    for user in train_index[item]:\n",
    "        ratings_train[item][user]=ratings[item][user]\n",
    "print(\"Minutes: \" + str((time.time() - start_time)/60.0))\n",
    "\n",
    "# Add area columns\n",
    "start_time = time.time()\n",
    "for area in families[\"Area\"].unique():\n",
    "    area_name=\"A\"+str(area)\n",
    "    ratings_train[area_name]=0.0\n",
    "print(\"Minutes: \" + str((time.time() - start_time)/60.0))\n",
    "\n",
    "# Add area ratings_train\n",
    "start_time = time.time()\n",
    "for user in ratings_train.index:\n",
    "    user_ratings_train=ratings_train.loc[user][ratings_train.loc[user]!=0.0]\n",
    "    for product in user_ratings_train.index:\n",
    "        area_aux=\"A\"+str(families[product==families[\"Material\"]][\"Area\"].values[0])\n",
    "        ratings_train.loc[user][area_aux]=ratings_train.loc[user][area_aux]+user_ratings_train.loc[product]\n",
    "print(\"Minutes: \" + str((time.time() - start_time)/60.0))"
   ]
  },
  {
   "cell_type": "code",
   "execution_count": 10,
   "metadata": {
    "collapsed": false
   },
   "outputs": [
    {
     "name": "stdout",
     "output_type": "stream",
     "text": [
      "Minutes: 0.319489785035\n",
      "Minutes: 0.00155781904856\n",
      "Minutes: 0.779663399855\n"
     ]
    }
   ],
   "source": [
    "# Create ratings test\n",
    "start_time = time.time()\n",
    "ratings_test=pd.DataFrame(index=prod.index, columns=ProductsList)\n",
    "ratings_test=ratings_test.fillna(0.0)\n",
    "for item in test_index.keys():\n",
    "    for user in test_index[item]:\n",
    "        ratings_test[item][user]=ratings[item][user]\n",
    "print(\"Minutes: \" + str((time.time() - start_time)/60.0))\n",
    "\n",
    "# Add area columns\n",
    "start_time = time.time()\n",
    "for area in families[\"Area\"].unique():\n",
    "    area_name=\"A\"+str(area)\n",
    "    ratings_test[area_name]=0.0\n",
    "print(\"Minutes: \" + str((time.time() - start_time)/60.0))\n",
    "\n",
    "# Add area ratings_test\n",
    "start_time = time.time()\n",
    "for user in ratings_test.index:\n",
    "    user_ratings_test=ratings_test.loc[user][ratings_test.loc[user]!=0.0]\n",
    "    for product in user_ratings_test.index:\n",
    "        area_aux=\"A\"+str(families[product==families[\"Material\"]][\"Area\"].values[0])\n",
    "        ratings_test.loc[user][area_aux]=ratings_test.loc[user][area_aux]+user_ratings_test.loc[product]\n",
    "print(\"Minutes: \" + str((time.time() - start_time)/60.0))"
   ]
  },
  {
   "cell_type": "code",
   "execution_count": 11,
   "metadata": {
    "collapsed": false
   },
   "outputs": [
    {
     "name": "stdout",
     "output_type": "stream",
     "text": [
      "Minutes: 0.0015611131986\n",
      "Minutes: 4.28447063367\n"
     ]
    }
   ],
   "source": [
    "# Add area columns\n",
    "start_time = time.time()\n",
    "for area in families[\"Area\"].unique():\n",
    "    area_name=\"A\"+str(area)\n",
    "    ratings[area_name]=0.0\n",
    "print(\"Minutes: \" + str((time.time() - start_time)/60.0))\n",
    "\n",
    "# Add area ratings\n",
    "start_time = time.time()\n",
    "for user in ratings.index:\n",
    "    user_ratings=ratings.loc[user][ratings.loc[user]!=0.0]\n",
    "    for product in user_ratings.index:\n",
    "        area_aux=\"A\"+str(families[product==families[\"Material\"]][\"Area\"].values[0])\n",
    "        ratings.loc[user][area_aux]=ratings.loc[user][area_aux]+user_ratings.loc[product]\n",
    "print(\"Minutes: \" + str((time.time() - start_time)/60.0))"
   ]
  },
  {
   "cell_type": "code",
   "execution_count": 12,
   "metadata": {
    "collapsed": true
   },
   "outputs": [],
   "source": [
    "# Create train\n",
    "train_list=[]\n",
    "train_cont=[]\n",
    "\n",
    "for user in ratings_train.index:\n",
    "    #aux=intersect(ratings_train.loc[user][ratings_train.loc[user]!=0.0].index, train_prod)\n",
    "    aux=list(ratings_train.loc[user][ratings_train.loc[user]!=0.0].index)\n",
    "    train_list.append(aux)\n",
    "    train_cont.append(len(aux))\n",
    "\n",
    "train=pd.DataFrame(index=ratings_train.index, columns=[\"items\", \"#items\"])\n",
    "train[\"items\"]=train_list\n",
    "train[\"#items\"]=train_cont\n",
    "\n",
    "# Create test\n",
    "test_list=[]\n",
    "test_cont=[]\n",
    "for user in ratings_test.index:\n",
    "    #aux=intersect(ratings.loc[user][ratings.loc[user]!=0.0].index, test_prod)\n",
    "    aux=list(ratings_test.loc[user][ratings_test.loc[user]!=0.0].index)\n",
    "    test_list.append(aux)\n",
    "    test_cont.append(len(aux))\n",
    "\n",
    "test=pd.DataFrame(index=ratings_test.index, columns=[\"items\", \"#items\"])\n",
    "test[\"items\"]=test_list\n",
    "test[\"#items\"]=test_cont\n",
    "\n",
    "test=test.loc[intersect(train.index, test.index)]"
   ]
  },
  {
   "cell_type": "code",
   "execution_count": 13,
   "metadata": {
    "collapsed": true
   },
   "outputs": [],
   "source": [
    "# Crate a Graph\n",
    "G=nx.Graph()\n",
    "G.add_nodes_from(ratings_train.index.tolist())\n",
    "G.add_nodes_from(ratings_train.columns.tolist())"
   ]
  },
  {
   "cell_type": "code",
   "execution_count": 14,
   "metadata": {
    "collapsed": false
   },
   "outputs": [
    {
     "name": "stdout",
     "output_type": "stream",
     "text": [
      "0.00754512219129\n",
      "0.00754512219129\n"
     ]
    }
   ],
   "source": [
    "# Compute mean ratings_train\n",
    "mean_ratings=ratings_train[ratings_train!=0.0].mean().mean()\n",
    "print mean_ratings\n",
    "if mean_ratings<0.0001:\n",
    "    mean_ratings=0.0001\n",
    "print mean_ratings\n",
    "# Coment to compuete mean ratings\n",
    "#mean_ratings=0.0"
   ]
  },
  {
   "cell_type": "code",
   "execution_count": 15,
   "metadata": {
    "collapsed": false
   },
   "outputs": [
    {
     "data": {
      "text/html": [
       "<div>\n",
       "<table border=\"1\" class=\"dataframe\">\n",
       "  <thead>\n",
       "    <tr style=\"text-align: right;\">\n",
       "      <th></th>\n",
       "      <th>000000001</th>\n",
       "      <th>000000002</th>\n",
       "      <th>000000003</th>\n",
       "      <th>000000004</th>\n",
       "      <th>000000005</th>\n",
       "      <th>000000006</th>\n",
       "      <th>000000007</th>\n",
       "      <th>000000008</th>\n",
       "      <th>000000010</th>\n",
       "      <th>000000011</th>\n",
       "      <th>...</th>\n",
       "      <th>A345</th>\n",
       "      <th>A351</th>\n",
       "      <th>A353</th>\n",
       "      <th>A354</th>\n",
       "      <th>A355</th>\n",
       "      <th>A356</th>\n",
       "      <th>A357</th>\n",
       "      <th>A358</th>\n",
       "      <th>A359</th>\n",
       "      <th>A360</th>\n",
       "    </tr>\n",
       "    <tr>\n",
       "      <th>Cliente</th>\n",
       "      <th></th>\n",
       "      <th></th>\n",
       "      <th></th>\n",
       "      <th></th>\n",
       "      <th></th>\n",
       "      <th></th>\n",
       "      <th></th>\n",
       "      <th></th>\n",
       "      <th></th>\n",
       "      <th></th>\n",
       "      <th></th>\n",
       "      <th></th>\n",
       "      <th></th>\n",
       "      <th></th>\n",
       "      <th></th>\n",
       "      <th></th>\n",
       "      <th></th>\n",
       "      <th></th>\n",
       "      <th></th>\n",
       "      <th></th>\n",
       "      <th></th>\n",
       "    </tr>\n",
       "  </thead>\n",
       "  <tbody>\n",
       "    <tr>\n",
       "      <th>95</th>\n",
       "      <td>NaN</td>\n",
       "      <td>NaN</td>\n",
       "      <td>NaN</td>\n",
       "      <td>NaN</td>\n",
       "      <td>NaN</td>\n",
       "      <td>NaN</td>\n",
       "      <td>NaN</td>\n",
       "      <td>NaN</td>\n",
       "      <td>NaN</td>\n",
       "      <td>NaN</td>\n",
       "      <td>...</td>\n",
       "      <td>0.016000</td>\n",
       "      <td>0.032000</td>\n",
       "      <td>NaN</td>\n",
       "      <td>NaN</td>\n",
       "      <td>NaN</td>\n",
       "      <td>NaN</td>\n",
       "      <td>NaN</td>\n",
       "      <td>NaN</td>\n",
       "      <td>NaN</td>\n",
       "      <td>NaN</td>\n",
       "    </tr>\n",
       "    <tr>\n",
       "      <th>10131</th>\n",
       "      <td>NaN</td>\n",
       "      <td>NaN</td>\n",
       "      <td>NaN</td>\n",
       "      <td>NaN</td>\n",
       "      <td>NaN</td>\n",
       "      <td>NaN</td>\n",
       "      <td>NaN</td>\n",
       "      <td>NaN</td>\n",
       "      <td>NaN</td>\n",
       "      <td>NaN</td>\n",
       "      <td>...</td>\n",
       "      <td>0.011824</td>\n",
       "      <td>0.016892</td>\n",
       "      <td>NaN</td>\n",
       "      <td>0.010135</td>\n",
       "      <td>NaN</td>\n",
       "      <td>NaN</td>\n",
       "      <td>NaN</td>\n",
       "      <td>NaN</td>\n",
       "      <td>NaN</td>\n",
       "      <td>NaN</td>\n",
       "    </tr>\n",
       "    <tr>\n",
       "      <th>10188</th>\n",
       "      <td>NaN</td>\n",
       "      <td>NaN</td>\n",
       "      <td>NaN</td>\n",
       "      <td>NaN</td>\n",
       "      <td>NaN</td>\n",
       "      <td>NaN</td>\n",
       "      <td>NaN</td>\n",
       "      <td>NaN</td>\n",
       "      <td>NaN</td>\n",
       "      <td>NaN</td>\n",
       "      <td>...</td>\n",
       "      <td>NaN</td>\n",
       "      <td>NaN</td>\n",
       "      <td>NaN</td>\n",
       "      <td>NaN</td>\n",
       "      <td>NaN</td>\n",
       "      <td>NaN</td>\n",
       "      <td>NaN</td>\n",
       "      <td>NaN</td>\n",
       "      <td>NaN</td>\n",
       "      <td>NaN</td>\n",
       "    </tr>\n",
       "    <tr>\n",
       "      <th>10262</th>\n",
       "      <td>NaN</td>\n",
       "      <td>NaN</td>\n",
       "      <td>NaN</td>\n",
       "      <td>NaN</td>\n",
       "      <td>NaN</td>\n",
       "      <td>NaN</td>\n",
       "      <td>NaN</td>\n",
       "      <td>NaN</td>\n",
       "      <td>NaN</td>\n",
       "      <td>NaN</td>\n",
       "      <td>...</td>\n",
       "      <td>NaN</td>\n",
       "      <td>NaN</td>\n",
       "      <td>NaN</td>\n",
       "      <td>NaN</td>\n",
       "      <td>NaN</td>\n",
       "      <td>NaN</td>\n",
       "      <td>NaN</td>\n",
       "      <td>NaN</td>\n",
       "      <td>NaN</td>\n",
       "      <td>NaN</td>\n",
       "    </tr>\n",
       "    <tr>\n",
       "      <th>10362</th>\n",
       "      <td>NaN</td>\n",
       "      <td>NaN</td>\n",
       "      <td>NaN</td>\n",
       "      <td>NaN</td>\n",
       "      <td>NaN</td>\n",
       "      <td>NaN</td>\n",
       "      <td>NaN</td>\n",
       "      <td>NaN</td>\n",
       "      <td>NaN</td>\n",
       "      <td>NaN</td>\n",
       "      <td>...</td>\n",
       "      <td>NaN</td>\n",
       "      <td>NaN</td>\n",
       "      <td>NaN</td>\n",
       "      <td>NaN</td>\n",
       "      <td>NaN</td>\n",
       "      <td>NaN</td>\n",
       "      <td>NaN</td>\n",
       "      <td>NaN</td>\n",
       "      <td>NaN</td>\n",
       "      <td>NaN</td>\n",
       "    </tr>\n",
       "  </tbody>\n",
       "</table>\n",
       "<p>5 rows × 2488 columns</p>\n",
       "</div>"
      ],
      "text/plain": [
       "         000000001  000000002  000000003  000000004  000000005  000000006  \\\n",
       "Cliente                                                                     \n",
       "95             NaN        NaN        NaN        NaN        NaN        NaN   \n",
       "10131          NaN        NaN        NaN        NaN        NaN        NaN   \n",
       "10188          NaN        NaN        NaN        NaN        NaN        NaN   \n",
       "10262          NaN        NaN        NaN        NaN        NaN        NaN   \n",
       "10362          NaN        NaN        NaN        NaN        NaN        NaN   \n",
       "\n",
       "         000000007  000000008  000000010  000000011  ...       A345      A351  \\\n",
       "Cliente                                              ...                        \n",
       "95             NaN        NaN        NaN        NaN  ...   0.016000  0.032000   \n",
       "10131          NaN        NaN        NaN        NaN  ...   0.011824  0.016892   \n",
       "10188          NaN        NaN        NaN        NaN  ...        NaN       NaN   \n",
       "10262          NaN        NaN        NaN        NaN  ...        NaN       NaN   \n",
       "10362          NaN        NaN        NaN        NaN  ...        NaN       NaN   \n",
       "\n",
       "         A353      A354  A355  A356  A357  A358  A359  A360  \n",
       "Cliente                                                      \n",
       "95        NaN       NaN   NaN   NaN   NaN   NaN   NaN   NaN  \n",
       "10131     NaN  0.010135   NaN   NaN   NaN   NaN   NaN   NaN  \n",
       "10188     NaN       NaN   NaN   NaN   NaN   NaN   NaN   NaN  \n",
       "10262     NaN       NaN   NaN   NaN   NaN   NaN   NaN   NaN  \n",
       "10362     NaN       NaN   NaN   NaN   NaN   NaN   NaN   NaN  \n",
       "\n",
       "[5 rows x 2488 columns]"
      ]
     },
     "execution_count": 15,
     "metadata": {},
     "output_type": "execute_result"
    }
   ],
   "source": [
    "# Take values bigger than mean ratings, remove 0.0\n",
    "df_aux=ratings_train[ratings_train!=0.0]\n",
    "df_aux=df_aux[df_aux>mean_ratings]\n",
    "df_aux.head()"
   ]
  },
  {
   "cell_type": "code",
   "execution_count": 16,
   "metadata": {
    "collapsed": true
   },
   "outputs": [],
   "source": [
    "# Create edges\n",
    "for user in df_aux.index:\n",
    "    no_null_ratings=ratings_train.loc[user][df_aux.loc[user].notnull()]\n",
    "    for item in no_null_ratings.index:\n",
    "        G.add_edge(user, item, weight=no_null_ratings.loc[item]/no_null_ratings.sum())"
   ]
  },
  {
   "cell_type": "code",
   "execution_count": 17,
   "metadata": {
    "collapsed": false
   },
   "outputs": [
    {
     "name": "stdout",
     "output_type": "stream",
     "text": [
      "100\n",
      "--- 1748.65046501 seconds ---\n",
      "200\n",
      "--- 1600.5385921 seconds ---\n",
      "300\n",
      "--- 1804.30444884 seconds ---\n",
      "400\n",
      "--- 1639.07976103 seconds ---\n",
      "500\n",
      "--- 1693.47116494 seconds ---\n",
      "600\n",
      "--- 1645.50048399 seconds ---\n",
      "700\n",
      "--- 1787.42377806 seconds ---\n",
      "800\n",
      "--- 1680.4261899 seconds ---\n",
      "900\n",
      "--- 1548.30302501 seconds ---\n",
      "1000\n",
      "--- 1543.10667205 seconds ---\n",
      "1100\n",
      "--- 1614.84257293 seconds ---\n",
      "1200\n",
      "--- 1555.90306711 seconds ---\n",
      "1300\n",
      "--- 1622.14483786 seconds ---\n",
      "1400\n",
      "--- 1597.35058093 seconds ---\n",
      "1500\n",
      "--- 1682.29354692 seconds ---\n",
      "1600\n",
      "--- 1767.56420302 seconds ---\n",
      "1700\n",
      "--- 1608.21867919 seconds ---\n",
      "1800\n",
      "--- 1687.30000615 seconds ---\n",
      "Minutes: 518.52138013\n"
     ]
    }
   ],
   "source": [
    "#Create similarity matrix\n",
    "start_time = time.time()\n",
    "start_time_diff = time.time()\n",
    "\n",
    "pr_dict={}\n",
    "cont_global=0\n",
    "for user in df_aux.index:\n",
    "    cont_global=cont_global+1\n",
    "    aux_G=G.copy()\n",
    "    n=len(G.nodes())\n",
    "    no_null_ratings=ratings_train.loc[user][df_aux.loc[user].notnull()]\n",
    "    null_items=[item for item in ratings_train.columns.tolist() if item not in no_null_ratings.index]\n",
    "    other_users=[u for u in ratings_train.index.tolist() if u not in [user]]\n",
    "    # Edges no_null_item - null_item\n",
    "    for item1 in no_null_ratings.index:\n",
    "        for item2 in null_items:\n",
    "            aux_G.add_edge(item1, item2, weight=1./n)\n",
    "    # Edges no_null_item - no_null_item (no repeat)\n",
    "    cont=1\n",
    "    for item1 in no_null_ratings.index:\n",
    "        for item2 in no_null_ratings.index[:cont]:\n",
    "            aux_G.add_edge(item1, item2, weight=1./n)\n",
    "            cont=cont+1\n",
    "    # Edges no_nul_item - other_users\n",
    "    for item in no_null_ratings.index:\n",
    "        for u in other_users:\n",
    "            if item in aux_G[u].keys():\n",
    "                aux_G[u][item]['weight']=aux_G[item][u]['weight']+1./n\n",
    "            else:\n",
    "                aux_G.add_edge(item, u, weight=1./n)\n",
    "    pr=nx.pagerank(aux_G)\n",
    "    pr_dict[user]=pr\n",
    "    if cont_global%100==0:\n",
    "        print cont_global\n",
    "        print(\"--- %s seconds ---\" % (time.time() - start_time_diff))\n",
    "        start_time_diff = time.time()\n",
    "\n",
    "print(\"Minutes: \" + str((time.time() - start_time)/60.0))"
   ]
  },
  {
   "cell_type": "code",
   "execution_count": 18,
   "metadata": {
    "collapsed": false
   },
   "outputs": [
    {
     "name": "stderr",
     "output_type": "stream",
     "text": [
      "/home/jps/anaconda/lib/python2.7/site-packages/pandas/indexes/base.py:1070: UnicodeWarning: Unicode equal comparison failed to convert both arguments to Unicode - interpreting them as being unequal\n",
      "  return self._engine.is_unique\n",
      "/home/jps/anaconda/lib/python2.7/site-packages/pandas/indexes/base.py:2256: UnicodeWarning: Unicode equal comparison failed to convert both arguments to Unicode - interpreting them as being unequal\n",
      "  indexer = self._engine.get_indexer(target._values)\n"
     ]
    }
   ],
   "source": [
    "# Pagerank user similarity (no symmetric)\n",
    "pr_sim=pd.DataFrame.from_dict(pr_dict, orient='index')[df_aux.index]"
   ]
  },
  {
   "cell_type": "code",
   "execution_count": 19,
   "metadata": {
    "collapsed": true
   },
   "outputs": [],
   "source": [
    "# Predict function\n",
    "def predict_pr(df, sim_df, user, item, k=10, tol=0.0):\n",
    "    #aux=sim_df.loc[user][sim_df.loc[user].notnull()==True]\n",
    "    #auxx=sim_df[user][sim_df[user].notnull()==True]\n",
    "    #sim_sorted=aux.append(auxx).sort_values(ascending=False)\n",
    "    sim_sorted=sim_df.loc[user].sort_values(ascending=False)\n",
    "    posible_users=df.index[df[item]!=0.0]\n",
    "    posible_users=list(set(posible_users)-set([user]))\n",
    "    if len(posible_users)<k:\n",
    "        k=len(posible_users)\n",
    "    sim_sorted=sim_sorted.loc[posible_users].sort_values(ascending=False)\n",
    "    top_k_sim=sim_sorted[:k]\n",
    "    top_k_sim=top_k_sim[top_k_sim>=tol]\n",
    "    k=top_k_sim[top_k_sim>=tol].count()\n",
    "    if k==0:\n",
    "        return 0.0\n",
    "    pred=0.0\n",
    "    #div=1.e-16\n",
    "    div=0.0\n",
    "    for i in np.arange(k):\n",
    "        #if df[df.index==top_k_sim.index[i]][item].values[0]!=99.0:\n",
    "        aux_pred=top_k_sim.iloc[i]*df[df.index==top_k_sim.index[i]][item].values[0]\n",
    "        pred=pred+aux_pred\n",
    "        div=div+top_k_sim.iloc[i]\n",
    "    if div==0.0:\n",
    "        div=1.e-16\n",
    "    pred=pred/div\n",
    "    return pred"
   ]
  },
  {
   "cell_type": "code",
   "execution_count": 20,
   "metadata": {
    "collapsed": true
   },
   "outputs": [],
   "source": [
    "# Predict function with mean\n",
    "def predict_pr_with_mean(df, sim_df, user, item, k=10, tol=0.0):\n",
    "    #aux=sim_df.loc[user][sim_df.loc[user].notnull()==True]\n",
    "    #auxx=sim_df[user][sim_df[user].notnull()==True]\n",
    "    #sim_sorted=aux.append(auxx).sort_values(ascending=False)\n",
    "    sim_sorted=sim_df.loc[user].sort_values(ascending=False)\n",
    "    posible_users=df.index[df[item]!=0.0]\n",
    "    posible_users=list(set(posible_users)-set([user]))\n",
    "    if len(posible_users)<k:\n",
    "        k=len(posible_users)\n",
    "    sim_sorted=sim_sorted.loc[posible_users].sort_values(ascending=False)\n",
    "    top_k_sim=sim_sorted[:k]\n",
    "    top_k_sim=top_k_sim[top_k_sim>=tol]\n",
    "    k=top_k_sim[top_k_sim>=tol].count()\n",
    "    if k==0:\n",
    "        return 0.0\n",
    "    pred=0.0\n",
    "    #div=1.e-16\n",
    "    div=0.0\n",
    "    for i in np.arange(k):\n",
    "        #if df[df.index==top_k_sim.index[i]][item].values[0]!=99.0:\n",
    "        v=top_k_sim.index[i]\n",
    "        v_mean=df.loc[v][df.loc[v]!=99.0].mean()\n",
    "        aux_pred=top_k_sim.iloc[i]*(df[df.index==top_k_sim.index[i]][item].values[0])\n",
    "        pred=pred+aux_pred\n",
    "        div=div+top_k_sim.iloc[i]\n",
    "    u_mean=df.loc[user][df.loc[user]!=99.0].mean()\n",
    "    if div==0.0:\n",
    "        div=1.e-16\n",
    "    pred=u_mean+pred/div\n",
    "    return pred"
   ]
  },
  {
   "cell_type": "code",
   "execution_count": 21,
   "metadata": {
    "collapsed": false
   },
   "outputs": [
    {
     "name": "stdout",
     "output_type": "stream",
     "text": [
      "k = 5\n",
      "Minutes: 8.56880788406\n",
      "MAE: 0.0141525078319\n",
      "MAE with 20 or less ratings: 0.0653823551472\n",
      "k = 10\n",
      "Minutes: 12.4746933659\n",
      "MAE: 0.0134272057985\n",
      "MAE with 20 or less ratings: 0.0650771922146\n",
      "k = 15\n",
      "Minutes: 16.0267970999\n",
      "MAE: 0.0130071280737\n",
      "MAE with 20 or less ratings: 0.0649985483614\n",
      "k = 20\n",
      "Minutes: 19.219322602\n",
      "MAE: 0.0126027132838\n",
      "MAE with 20 or less ratings: 0.0650838550256\n",
      "Best k = 20 with MAE = 0.0126027132838\n"
     ]
    }
   ],
   "source": [
    "# Predict matrix\n",
    "k_candidates=[5,10,15,20]\n",
    "best_k=0\n",
    "best_mae=np.inf\n",
    "for k in k_candidates:\n",
    "    print \"k = \" + str(k)\n",
    "    start_time = time.time()\n",
    "    pred_df = pd.DataFrame(index=test.index, columns=ratings_test.columns)\n",
    "    evaluation=[]\n",
    "    for user in test.index:\n",
    "        items=test[\"items\"].loc[user]\n",
    "        for item in items:\n",
    "            pred=predict_pr(ratings_test, pr_sim, user, item, k)\n",
    "            diff=abs(pred-ratings_test[item][user])\n",
    "            evaluation_row= [user, item, pred, ratings_test[item][user], diff]\n",
    "            evaluation.append(evaluation_row)\n",
    "            pred_df[item][user]=pred\n",
    "    print(\"Minutes: \" + str((time.time() - start_time)/60.0))\n",
    "\n",
    "    evaluation_df=pd.DataFrame(evaluation, columns=[\"user\", \"item\", \"predict\", \"real\", \"diff\"])\n",
    "\n",
    "    print \"MAE: \" + str(evaluation_df[\"diff\"].mean())\n",
    "    \n",
    "    if evaluation_df[\"diff\"].mean()<best_mae:\n",
    "        best_k=k\n",
    "        best_mae=evaluation_df[\"diff\"].mean()\n",
    "\n",
    "    #MAE users with 20 or less ratings\n",
    "\n",
    "    users_less_ratings=[]\n",
    "    for u in ratings_test.index:\n",
    "        aux=ratings_test.loc[u].value_counts()\n",
    "        n=aux[aux.index!=0.0].sum()\n",
    "        if n<=20:\n",
    "            users_less_ratings.append(u)\n",
    "\n",
    "    mae_less_ratings=[]\n",
    "    for u in users_less_ratings:\n",
    "        if len(evaluation_df[evaluation_df[\"user\"]==u][\"diff\"])>0:\n",
    "            mae_less_ratings.append(evaluation_df[evaluation_df[\"user\"]==u][\"diff\"].mean())\n",
    "\n",
    "    print \"MAE with 20 or less ratings: \" + str(np.mean(mae_less_ratings))\n",
    "    evaluation_df.to_csv(\"../../Evaluation/evaluation_test_MAE_PageRank_user_based_k=\" + str(k) + \".csv\", index=False)\n",
    "print \"Best k = \" + str(best_k) + \" with MAE = \" + str(best_mae)"
   ]
  },
  {
   "cell_type": "code",
   "execution_count": 22,
   "metadata": {
    "collapsed": true
   },
   "outputs": [],
   "source": [
    "#Identify familes\n",
    "r = re.compile(\"^A\")\n",
    "area_colnames = filter(r.match, ratings.columns)"
   ]
  },
  {
   "cell_type": "code",
   "execution_count": 23,
   "metadata": {
    "collapsed": false
   },
   "outputs": [
    {
     "name": "stdout",
     "output_type": "stream",
     "text": [
      "100\n",
      "Minutes: 4.89853311777\n",
      "200\n",
      "Minutes: 9.8709047993\n",
      "300\n",
      "Minutes: 14.9061224858\n",
      "400\n",
      "Minutes: 19.8662804842\n",
      "500\n",
      "Minutes: 24.8454008023\n",
      "600\n",
      "Minutes: 29.7637118498\n",
      "700\n",
      "Minutes: 34.709339416\n",
      "800\n",
      "Minutes: 39.6427872181\n",
      "900\n",
      "Minutes: 44.6410440167\n",
      "1000\n",
      "Minutes: 49.5779316028\n",
      "1100\n",
      "Minutes: 54.5135284026\n",
      "1200\n",
      "Minutes: 59.4226320664\n",
      "1300\n",
      "Minutes: 64.3880207499\n",
      "1400\n",
      "Minutes: 69.2962067842\n",
      "1500\n",
      "Minutes: 74.1777683695\n",
      "1600\n",
      "Minutes: 79.071299084\n",
      "1700\n",
      "Minutes: 84.0158180833\n",
      "1800\n",
      "Minutes: 88.9504661361\n",
      "Minutes: 93.0783341845\n"
     ]
    }
   ],
   "source": [
    "# Predict matrix\n",
    "\n",
    "start_time = time.time()\n",
    "pred_df = pd.DataFrame(index=ratings.index, columns=area_colnames)\n",
    "cont=0\n",
    "for user in ratings.index:\n",
    "    cont=cont+1\n",
    "    if cont%100==0:\n",
    "        print cont\n",
    "        print(\"Minutes: \" + str((time.time() - start_time)/60.0))\n",
    "    for item in area_colnames:\n",
    "        pred=predict_pr(ratings, pr_sim, user, item, best_k)\n",
    "        pred_df[item][user]=pred\n",
    "print(\"Minutes: \" + str((time.time() - start_time)/60.0))"
   ]
  },
  {
   "cell_type": "code",
   "execution_count": 24,
   "metadata": {
    "collapsed": true
   },
   "outputs": [],
   "source": [
    "#Normalize pred_df\n",
    "for user in pred_df.index:\n",
    "    if pred_df.loc[user].sum()!=0.0:\n",
    "        pred_df.loc[user]=pred_df.loc[user]/pred_df.loc[user].sum()"
   ]
  },
  {
   "cell_type": "code",
   "execution_count": 25,
   "metadata": {
    "collapsed": true
   },
   "outputs": [],
   "source": [
    "#Kullback-Leiber function\n",
    "def kl(p, q):\n",
    "    p = np.asarray(p, dtype=np.float)\n",
    "    q = np.asarray(q, dtype=np.float)\n",
    "    return np.sum(np.where((p != 0) & (q != 0), p * np.log(p / q), 0))"
   ]
  },
  {
   "cell_type": "code",
   "execution_count": 26,
   "metadata": {
    "collapsed": false
   },
   "outputs": [
    {
     "name": "stderr",
     "output_type": "stream",
     "text": [
      "/home/jps/anaconda/lib/python2.7/site-packages/ipykernel/__main__.py:5: RuntimeWarning: invalid value encountered in divide\n",
      "/home/jps/anaconda/lib/python2.7/site-packages/ipykernel/__main__.py:5: RuntimeWarning: divide by zero encountered in log\n",
      "/home/jps/anaconda/lib/python2.7/site-packages/ipykernel/__main__.py:5: RuntimeWarning: invalid value encountered in multiply\n"
     ]
    }
   ],
   "source": [
    "#Kullback-Leiber evaluation\n",
    "KL=pd.DataFrame(index=pred_df.index, columns=[\"KL\"])\n",
    "for user in pred_df.index:\n",
    "    KL[\"KL\"][user]=kl(p=ratings[area_colnames].loc[user], q=pred_df.loc[user])"
   ]
  },
  {
   "cell_type": "code",
   "execution_count": 27,
   "metadata": {
    "collapsed": false
   },
   "outputs": [
    {
     "name": "stdout",
     "output_type": "stream",
     "text": [
      "Mean: 2.21930757747\n"
     ]
    },
    {
     "data": {
      "image/png": "[encoded data removed]",
      "text/plain": [
       "<matplotlib.figure.Figure at 0x7faecc7f9650>"
      ]
     },
     "metadata": {},
     "output_type": "display_data"
    }
   ],
   "source": [
    "#Kullback-Leiber histogram\n",
    "%matplotlib inline\n",
    "KL[\"KL\"].hist()\n",
    "print \"Mean: \" + str(KL[\"KL\"].mean())"
   ]
  },
  {
   "cell_type": "code",
   "execution_count": 28,
   "metadata": {
    "collapsed": true
   },
   "outputs": [],
   "source": [
    "KL.to_csv(\"../../KL_evaluation/kl_evaluation_PageRank_user_based.csv\")"
   ]
  },
  {
   "cell_type": "code",
   "execution_count": 29,
   "metadata": {
    "collapsed": true
   },
   "outputs": [],
   "source": [
    "output=pd.DataFrame(index=pred_df.index, columns=[\"TOP\", \"values\", \"real_TOP\", \"real_values\", \"real_#\"])\n",
    "for user in pred_df.index:\n",
    "    output[\"TOP\"][user]=pred_df.loc[user].sort_values(ascending=False).index.tolist()\n",
    "    output[\"values\"][user]=pred_df.loc[user].sort_values(ascending=False).tolist()\n",
    "    output[\"real_#\"][user]=ratings.loc[user][area_colnames][ratings.loc[user][area_colnames]!=0.0].count()\n",
    "    output[\"real_TOP\"][user]=ratings.loc[user][area_colnames][ratings.loc[user][area_colnames]!=0.0].sort_values(ascending=False).index.tolist()\n",
    "    output[\"real_values\"][user]=ratings.loc[user][area_colnames][ratings.loc[user][area_colnames]!=0.0].sort_values(ascending=False).tolist()"
   ]
  },
  {
   "cell_type": "code",
   "execution_count": 30,
   "metadata": {
    "collapsed": false
   },
   "outputs": [],
   "source": [
    "output.to_csv(\"../../Output/output_PageRank_user_based.csv\")"
   ]
  },
  {
   "cell_type": "code",
   "execution_count": 31,
   "metadata": {
    "collapsed": false
   },
   "outputs": [
    {
     "data": {
      "text/html": [
       "<div>\n",
       "<table border=\"1\" class=\"dataframe\">\n",
       "  <thead>\n",
       "    <tr style=\"text-align: right;\">\n",
       "      <th></th>\n",
       "      <th>TOP</th>\n",
       "      <th>values</th>\n",
       "      <th>real_TOP</th>\n",
       "      <th>real_values</th>\n",
       "      <th>real_#</th>\n",
       "    </tr>\n",
       "    <tr>\n",
       "      <th>Cliente</th>\n",
       "      <th></th>\n",
       "      <th></th>\n",
       "      <th></th>\n",
       "      <th></th>\n",
       "      <th></th>\n",
       "    </tr>\n",
       "  </thead>\n",
       "  <tbody>\n",
       "    <tr>\n",
       "      <th>95</th>\n",
       "      <td>[A216, A168, A289, A246, A280, A351, A150, A31...</td>\n",
       "      <td>[0.0386336852419, 0.0240615305694, 0.019039256...</td>\n",
       "      <td>[A225, A210, A275, A272, A195, A234, A280, A35...</td>\n",
       "      <td>[0.216, 0.064, 0.06, 0.06, 0.048, 0.044, 0.036...</td>\n",
       "      <td>48</td>\n",
       "    </tr>\n",
       "    <tr>\n",
       "      <th>10131</th>\n",
       "      <td>[A216, A168, A289, A268, A316, A150, A280, A35...</td>\n",
       "      <td>[0.0388656720799, 0.0259511785673, 0.022452295...</td>\n",
       "      <td>[A210, A236, A225, A207, A289, A230, A311, A16...</td>\n",
       "      <td>[0.119932432432, 0.114864864865, 0.04898648648...</td>\n",
       "      <td>56</td>\n",
       "    </tr>\n",
       "    <tr>\n",
       "      <th>10188</th>\n",
       "      <td>[A216, A168, A289, A280, A150, A272, A316, A29...</td>\n",
       "      <td>[0.0387095597492, 0.026022313388, 0.0238099806...</td>\n",
       "      <td>[A210, A205, A236, A289, A143, A207, A145, A31...</td>\n",
       "      <td>[0.114285714286, 0.0833333333333, 0.0642857142...</td>\n",
       "      <td>55</td>\n",
       "    </tr>\n",
       "    <tr>\n",
       "      <th>10262</th>\n",
       "      <td>[A216, A168, A289, A150, A280, A311, A272, A31...</td>\n",
       "      <td>[0.0391109022327, 0.0267814739967, 0.023810094...</td>\n",
       "      <td>[A210, A311, A289, A312, A226, A166, A205, A16...</td>\n",
       "      <td>[0.198630136986, 0.109589041096, 0.08219178082...</td>\n",
       "      <td>32</td>\n",
       "    </tr>\n",
       "    <tr>\n",
       "      <th>10362</th>\n",
       "      <td>[A216, A168, A289, A316, A272, A280, A311, A30...</td>\n",
       "      <td>[0.0395785269292, 0.026335309833, 0.0241585841...</td>\n",
       "      <td>[A143, A289, A205, A166, A207, A230, A210, A16...</td>\n",
       "      <td>[0.15595463138, 0.0812854442344, 0.06710775047...</td>\n",
       "      <td>91</td>\n",
       "    </tr>\n",
       "  </tbody>\n",
       "</table>\n",
       "</div>"
      ],
      "text/plain": [
       "                                                       TOP  \\\n",
       "Cliente                                                      \n",
       "95       [A216, A168, A289, A246, A280, A351, A150, A31...   \n",
       "10131    [A216, A168, A289, A268, A316, A150, A280, A35...   \n",
       "10188    [A216, A168, A289, A280, A150, A272, A316, A29...   \n",
       "10262    [A216, A168, A289, A150, A280, A311, A272, A31...   \n",
       "10362    [A216, A168, A289, A316, A272, A280, A311, A30...   \n",
       "\n",
       "                                                    values  \\\n",
       "Cliente                                                      \n",
       "95       [0.0386336852419, 0.0240615305694, 0.019039256...   \n",
       "10131    [0.0388656720799, 0.0259511785673, 0.022452295...   \n",
       "10188    [0.0387095597492, 0.026022313388, 0.0238099806...   \n",
       "10262    [0.0391109022327, 0.0267814739967, 0.023810094...   \n",
       "10362    [0.0395785269292, 0.026335309833, 0.0241585841...   \n",
       "\n",
       "                                                  real_TOP  \\\n",
       "Cliente                                                      \n",
       "95       [A225, A210, A275, A272, A195, A234, A280, A35...   \n",
       "10131    [A210, A236, A225, A207, A289, A230, A311, A16...   \n",
       "10188    [A210, A205, A236, A289, A143, A207, A145, A31...   \n",
       "10262    [A210, A311, A289, A312, A226, A166, A205, A16...   \n",
       "10362    [A143, A289, A205, A166, A207, A230, A210, A16...   \n",
       "\n",
       "                                               real_values real_#  \n",
       "Cliente                                                            \n",
       "95       [0.216, 0.064, 0.06, 0.06, 0.048, 0.044, 0.036...     48  \n",
       "10131    [0.119932432432, 0.114864864865, 0.04898648648...     56  \n",
       "10188    [0.114285714286, 0.0833333333333, 0.0642857142...     55  \n",
       "10262    [0.198630136986, 0.109589041096, 0.08219178082...     32  \n",
       "10362    [0.15595463138, 0.0812854442344, 0.06710775047...     91  "
      ]
     },
     "execution_count": 31,
     "metadata": {},
     "output_type": "execute_result"
    }
   ],
   "source": [
    "output.head()"
   ]
  },
  {
   "cell_type": "code",
   "execution_count": 32,
   "metadata": {
    "collapsed": true
   },
   "outputs": [],
   "source": [
    "#Recommendations output\n",
    "recommendations=pd.DataFrame(index=pred_df.index, columns=[\"TOP12\", \"values\"])\n",
    "for user in pred_df.index:\n",
    "    recommendations[\"TOP12\"][user]=pred_df.loc[user][list(set(output[\"TOP\"][user])-set(output[\"real_TOP\"][user]))].sort_values(ascending=False).index.tolist()[:12]\n",
    "    recommendations[\"values\"][user]=pred_df.loc[user][list(set(output[\"TOP\"][user])-set(output[\"real_TOP\"][user]))].sort_values(ascending=False).tolist()[:12]"
   ]
  },
  {
   "cell_type": "code",
   "execution_count": 33,
   "metadata": {
    "collapsed": true
   },
   "outputs": [],
   "source": [
    "recommendations.to_csv(\"../../Recommendations/recommendations_PageRank_user_based.csv\")"
   ]
  },
  {
   "cell_type": "code",
   "execution_count": 34,
   "metadata": {
    "collapsed": false
   },
   "outputs": [
    {
     "data": {
      "text/html": [
       "<div>\n",
       "<table border=\"1\" class=\"dataframe\">\n",
       "  <thead>\n",
       "    <tr style=\"text-align: right;\">\n",
       "      <th></th>\n",
       "      <th>TOP12</th>\n",
       "      <th>values</th>\n",
       "    </tr>\n",
       "    <tr>\n",
       "      <th>Cliente</th>\n",
       "      <th></th>\n",
       "      <th></th>\n",
       "    </tr>\n",
       "  </thead>\n",
       "  <tbody>\n",
       "    <tr>\n",
       "      <th>95</th>\n",
       "      <td>[A216, A168, A289, A246, A150, A149, A290, A34...</td>\n",
       "      <td>[0.0386336852419, 0.0240615305694, 0.019039256...</td>\n",
       "    </tr>\n",
       "    <tr>\n",
       "      <th>10131</th>\n",
       "      <td>[A216, A168, A150, A300, A343, A313, A262, A26...</td>\n",
       "      <td>[0.0388656720799, 0.0259511785673, 0.014549414...</td>\n",
       "    </tr>\n",
       "    <tr>\n",
       "      <th>10188</th>\n",
       "      <td>[A216, A168, A280, A343, A275, A313, A262, A26...</td>\n",
       "      <td>[0.0387095597492, 0.026022313388, 0.0143469479...</td>\n",
       "    </tr>\n",
       "    <tr>\n",
       "      <th>10262</th>\n",
       "      <td>[A216, A168, A280, A272, A316, A300, A343, A31...</td>\n",
       "      <td>[0.0391109022327, 0.0267814739967, 0.014396423...</td>\n",
       "    </tr>\n",
       "    <tr>\n",
       "      <th>10362</th>\n",
       "      <td>[A168, A311, A262, A150, A338, A195, A341, A34...</td>\n",
       "      <td>[0.026335309833, 0.013713694999, 0.01199639280...</td>\n",
       "    </tr>\n",
       "  </tbody>\n",
       "</table>\n",
       "</div>"
      ],
      "text/plain": [
       "                                                     TOP12  \\\n",
       "Cliente                                                      \n",
       "95       [A216, A168, A289, A246, A150, A149, A290, A34...   \n",
       "10131    [A216, A168, A150, A300, A343, A313, A262, A26...   \n",
       "10188    [A216, A168, A280, A343, A275, A313, A262, A26...   \n",
       "10262    [A216, A168, A280, A272, A316, A300, A343, A31...   \n",
       "10362    [A168, A311, A262, A150, A338, A195, A341, A34...   \n",
       "\n",
       "                                                    values  \n",
       "Cliente                                                     \n",
       "95       [0.0386336852419, 0.0240615305694, 0.019039256...  \n",
       "10131    [0.0388656720799, 0.0259511785673, 0.014549414...  \n",
       "10188    [0.0387095597492, 0.026022313388, 0.0143469479...  \n",
       "10262    [0.0391109022327, 0.0267814739967, 0.014396423...  \n",
       "10362    [0.026335309833, 0.013713694999, 0.01199639280...  "
      ]
     },
     "execution_count": 34,
     "metadata": {},
     "output_type": "execute_result"
    }
   ],
   "source": [
    "recommendations.head()"
   ]
  },
  {
   "cell_type": "code",
   "execution_count": null,
   "metadata": {
    "collapsed": false
   },
   "outputs": [],
   "source": [
    "%store df\n",
    "%store families\n",
    "%store ratings\n",
    "%store ratings_train\n",
    "%store ratings_test\n",
    "%store train\n",
    "%store test\n",
    "%store pr_sim\n",
    "%store pred_df\n",
    "%store output\n",
    "%store recommendations"
   ]
  },
  {
   "cell_type": "code",
   "execution_count": 35,
   "metadata": {
    "collapsed": false
   },
   "outputs": [
    {
     "name": "stdout",
     "output_type": "stream",
     "text": [
      "Total time in minutes: 686.266874015\n"
     ]
    }
   ],
   "source": [
    "print(\"Total time in minutes: \" + str((time.time() - global_time)/60.0))"
   ]
  },
  {
   "cell_type": "code",
   "execution_count": null,
   "metadata": {
    "collapsed": true
   },
   "outputs": [],
   "source": []
  }
 ],
 "metadata": {
  "kernelspec": {
   "display_name": "Python 2",
   "language": "python",
   "name": "python2"
  },
  "language_info": {
   "codemirror_mode": {
    "name": "ipython",
    "version": 2
   },
   "file_extension": ".py",
   "mimetype": "text/x-python",
   "name": "python",
   "nbconvert_exporter": "python",
   "pygments_lexer": "ipython2",
   "version": "2.7.12"
  }
 },
 "nbformat": 4,
 "nbformat_minor": 2
}
