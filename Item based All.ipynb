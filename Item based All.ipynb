{
 "cells": [
  {
   "cell_type": "code",
   "execution_count": 1,
   "metadata": {
    "collapsed": true
   },
   "outputs": [],
   "source": [
    "%store -d df\n",
    "%store -d families\n",
    "%store -d ratings\n",
    "%store -d ratings_train\n",
    "%store -d ratings_test\n",
    "%store -d train\n",
    "%store -d test\n",
    "%store -d sim_df\n",
    "%store -d pred_df\n",
    "%store -d output\n",
    "%store -d recommendations"
   ]
  },
  {
   "cell_type": "code",
   "execution_count": 2,
   "metadata": {
    "collapsed": true
   },
   "outputs": [],
   "source": [
    "import numpy as np\n",
    "import pandas as pd\n",
    "import random\n",
    "from scipy.stats import pearsonr\n",
    "from math import isnan\n",
    "import time"
   ]
  },
  {
   "cell_type": "code",
   "execution_count": 3,
   "metadata": {
    "collapsed": false
   },
   "outputs": [
    {
     "data": {
      "text/html": [
       "<div>\n",
       "<table border=\"1\" class=\"dataframe\">\n",
       "  <thead>\n",
       "    <tr style=\"text-align: right;\">\n",
       "      <th></th>\n",
       "      <th>cod_venta</th>\n",
       "      <th>Cliente</th>\n",
       "      <th>Posición</th>\n",
       "      <th>Fecha crea</th>\n",
       "      <th>Producto</th>\n",
       "      <th>Descripcion</th>\n",
       "      <th>Cantidad</th>\n",
       "      <th>UM</th>\n",
       "      <th>Venta neta</th>\n",
       "      <th>Moneda</th>\n",
       "    </tr>\n",
       "  </thead>\n",
       "  <tbody>\n",
       "    <tr>\n",
       "      <th>0</th>\n",
       "      <td>101303229</td>\n",
       "      <td>40570</td>\n",
       "      <td>10</td>\n",
       "      <td>2016-10-31</td>\n",
       "      <td>000001228</td>\n",
       "      <td>B.L/C PET BL.  210,0X297,0 20H</td>\n",
       "      <td>1</td>\n",
       "      <td>UN</td>\n",
       "      <td>11.45</td>\n",
       "      <td>EUR</td>\n",
       "    </tr>\n",
       "    <tr>\n",
       "      <th>1</th>\n",
       "      <td>101303229</td>\n",
       "      <td>40570</td>\n",
       "      <td>20</td>\n",
       "      <td>2016-10-31</td>\n",
       "      <td>000001270</td>\n",
       "      <td>C.I/L/C        70,0X 25,4 100H</td>\n",
       "      <td>1</td>\n",
       "      <td>UN</td>\n",
       "      <td>9.74</td>\n",
       "      <td>EUR</td>\n",
       "    </tr>\n",
       "    <tr>\n",
       "      <th>2</th>\n",
       "      <td>101303230</td>\n",
       "      <td>13995</td>\n",
       "      <td>10</td>\n",
       "      <td>2016-10-31</td>\n",
       "      <td>000012769</td>\n",
       "      <td>B.GOMA EVA BLANCO         400X600X2MM 5H</td>\n",
       "      <td>1</td>\n",
       "      <td>UN</td>\n",
       "      <td>1.74</td>\n",
       "      <td>EUR</td>\n",
       "    </tr>\n",
       "    <tr>\n",
       "      <th>3</th>\n",
       "      <td>101303230</td>\n",
       "      <td>13995</td>\n",
       "      <td>20</td>\n",
       "      <td>2016-10-31</td>\n",
       "      <td>000012768</td>\n",
       "      <td>B.GOMA EVA NEGRO          400X600X2MM 5H</td>\n",
       "      <td>1</td>\n",
       "      <td>UN</td>\n",
       "      <td>1.74</td>\n",
       "      <td>EUR</td>\n",
       "    </tr>\n",
       "    <tr>\n",
       "      <th>4</th>\n",
       "      <td>101302933</td>\n",
       "      <td>105277</td>\n",
       "      <td>10</td>\n",
       "      <td>2016-10-28</td>\n",
       "      <td>000010532</td>\n",
       "      <td>C.MULTI3      210,0X148,0 500H</td>\n",
       "      <td>6</td>\n",
       "      <td>UN</td>\n",
       "      <td>96.00</td>\n",
       "      <td>EUR</td>\n",
       "    </tr>\n",
       "  </tbody>\n",
       "</table>\n",
       "</div>"
      ],
      "text/plain": [
       "   cod_venta  Cliente  Posición Fecha crea   Producto  \\\n",
       "0  101303229    40570        10 2016-10-31  000001228   \n",
       "1  101303229    40570        20 2016-10-31  000001270   \n",
       "2  101303230    13995        10 2016-10-31  000012769   \n",
       "3  101303230    13995        20 2016-10-31  000012768   \n",
       "4  101302933   105277        10 2016-10-28  000010532   \n",
       "\n",
       "                                Descripcion  Cantidad  UM  Venta neta Moneda  \n",
       "0            B.L/C PET BL.  210,0X297,0 20H         1  UN       11.45    EUR  \n",
       "1            C.I/L/C        70,0X 25,4 100H         1  UN        9.74    EUR  \n",
       "2  B.GOMA EVA BLANCO         400X600X2MM 5H         1  UN        1.74    EUR  \n",
       "3  B.GOMA EVA NEGRO          400X600X2MM 5H         1  UN        1.74    EUR  \n",
       "4            C.MULTI3      210,0X148,0 500H         6  UN       96.00    EUR  "
      ]
     },
     "execution_count": 3,
     "metadata": {},
     "output_type": "execute_result"
    }
   ],
   "source": [
    "global_time = time.time()\n",
    "# Read OLO\n",
    "df=pd.read_excel(\"../../OLOORDERS.xlsx\")\n",
    "\n",
    "df.columns = [u'WEB', u'CDis', u'Agen come', u'GVen', u'cod_venta', u'Cliente', \n",
    "              u'Nombre', u'Posición', u'Fecha crea', u'Producto', u'Descripcion', \n",
    "              u'Cantidad', u'UM', u'Venta neta', u'Moneda']\n",
    "\n",
    "df=df.drop([u'WEB', u'CDis', u'Agen come', u'GVen', u'Nombre'], axis=1)\n",
    "\n",
    "df.head()"
   ]
  },
  {
   "cell_type": "code",
   "execution_count": 4,
   "metadata": {
    "collapsed": false
   },
   "outputs": [
    {
     "name": "stdout",
     "output_type": "stream",
     "text": [
      "(2657, 2)\n"
     ]
    },
    {
     "data": {
      "text/html": [
       "<div>\n",
       "<table border=\"1\" class=\"dataframe\">\n",
       "  <thead>\n",
       "    <tr style=\"text-align: right;\">\n",
       "      <th></th>\n",
       "      <th>Area</th>\n",
       "      <th>Material</th>\n",
       "    </tr>\n",
       "  </thead>\n",
       "  <tbody>\n",
       "    <tr>\n",
       "      <th>0</th>\n",
       "      <td>143</td>\n",
       "      <td>000001776</td>\n",
       "    </tr>\n",
       "    <tr>\n",
       "      <th>1</th>\n",
       "      <td>143</td>\n",
       "      <td>000001777</td>\n",
       "    </tr>\n",
       "    <tr>\n",
       "      <th>2</th>\n",
       "      <td>143</td>\n",
       "      <td>000001778</td>\n",
       "    </tr>\n",
       "    <tr>\n",
       "      <th>3</th>\n",
       "      <td>143</td>\n",
       "      <td>000001781</td>\n",
       "    </tr>\n",
       "    <tr>\n",
       "      <th>4</th>\n",
       "      <td>143</td>\n",
       "      <td>000001782</td>\n",
       "    </tr>\n",
       "  </tbody>\n",
       "</table>\n",
       "</div>"
      ],
      "text/plain": [
       "   Area   Material\n",
       "0   143  000001776\n",
       "1   143  000001777\n",
       "2   143  000001778\n",
       "3   143  000001781\n",
       "4   143  000001782"
      ]
     },
     "execution_count": 4,
     "metadata": {},
     "output_type": "execute_result"
    }
   ],
   "source": [
    "#Read families\n",
    "families=pd.read_csv(\"../../Dades/Asignacion_productos.csv\")\n",
    "families = families.drop(families.columns[[0, 1, 3, 4, 5, 6, 7, 9, 10]], 1)\n",
    "families.columns=[\"Area\", \"Material\"]\n",
    "print families.shape\n",
    "families.head()"
   ]
  },
  {
   "cell_type": "code",
   "execution_count": 5,
   "metadata": {
    "collapsed": true
   },
   "outputs": [],
   "source": [
    "# Intersect products from OLO and families\n",
    "def intersect(a, b):\n",
    "    return list(set(a) & set(b))\n",
    "\n",
    "ProductsList=np.unique(np.array(df[\"Producto\"]))\n",
    "ProductsList_intersect=intersect(ProductsList, families[\"Material\"].values)\n",
    "df=df.loc[df['Producto'].isin(ProductsList_intersect)]"
   ]
  },
  {
   "cell_type": "code",
   "execution_count": 6,
   "metadata": {
    "collapsed": true
   },
   "outputs": [],
   "source": [
    "# Groupby Cliente and ProductsList\n",
    "gr=df.groupby([\"Cliente\"])[\"Producto\"].apply(list)\n",
    "prod=pd.DataFrame(gr)\n",
    "ProductsList=np.unique(np.array(df[\"Producto\"]))"
   ]
  },
  {
   "cell_type": "code",
   "execution_count": 7,
   "metadata": {
    "collapsed": false
   },
   "outputs": [
    {
     "name": "stdout",
     "output_type": "stream",
     "text": [
      "Minutes: 5.61658040285\n",
      "Minutes: 0.304091266791\n"
     ]
    }
   ],
   "source": [
    "# Create ratings\n",
    "start_time = time.time()\n",
    "ratings=pd.DataFrame(index=prod.index, columns=ProductsList)\n",
    "ratings=ratings.fillna(0)\n",
    "for i in np.arange(len(prod)):\n",
    "    for j in np.arange(len(prod[prod.index==prod.index[i]][\"Producto\"].values[0])):\n",
    "        ratings.loc[prod.index[i], prod[prod.index==prod.index[i]][\"Producto\"].values[0][j]]+=1\n",
    "print(\"Minutes: \" + str((time.time() - start_time)/60.0))\n",
    "\n",
    "# Normalize ratings\n",
    "start_time = time.time()\n",
    "for user in ratings.index:\n",
    "    ratings.loc[user]=ratings.loc[user]/ratings.loc[user].sum()\n",
    "print(\"Minutes: \" + str((time.time() - start_time)/60.0))"
   ]
  },
  {
   "cell_type": "code",
   "execution_count": 8,
   "metadata": {
    "collapsed": true
   },
   "outputs": [],
   "source": [
    "#Train and test index\n",
    "np.random.seed(40)\n",
    "no_null_index={}\n",
    "for item in ratings.columns:\n",
    "     no_null_index[item]=ratings[item][ratings[item]!=0.0].index.tolist()\n",
    "\n",
    "train_index={}\n",
    "test_index={}\n",
    "for item in no_null_index.keys():\n",
    "    test_index[item]=np.random.choice(no_null_index[item], int(0.2*len(no_null_index[item])))\n",
    "    train_index[item]=list(set(no_null_index[item])-set(test_index[item]))"
   ]
  },
  {
   "cell_type": "code",
   "execution_count": 9,
   "metadata": {
    "collapsed": false
   },
   "outputs": [
    {
     "name": "stdout",
     "output_type": "stream",
     "text": [
      "Minutes: 1.67191379865\n",
      "Minutes: 0.00182421604792\n",
      "Minutes: 3.87994105021\n"
     ]
    }
   ],
   "source": [
    "# Create ratings train\n",
    "start_time = time.time()\n",
    "ratings_train=pd.DataFrame(index=prod.index, columns=ProductsList)\n",
    "ratings_train=ratings_train.fillna(0.0)\n",
    "for item in train_index.keys():\n",
    "    for user in train_index[item]:\n",
    "        ratings_train[item][user]=ratings[item][user]\n",
    "print(\"Minutes: \" + str((time.time() - start_time)/60.0))\n",
    "\n",
    "# Add area columns\n",
    "start_time = time.time()\n",
    "for area in families[\"Area\"].unique():\n",
    "    area_name=\"A\"+str(area)\n",
    "    ratings_train[area_name]=0.0\n",
    "print(\"Minutes: \" + str((time.time() - start_time)/60.0))\n",
    "\n",
    "# Add area ratings_train\n",
    "start_time = time.time()\n",
    "for user in ratings_train.index:\n",
    "    user_ratings_train=ratings_train.loc[user][ratings_train.loc[user]!=0.0]\n",
    "    for product in user_ratings_train.index:\n",
    "        area_aux=\"A\"+str(families[product==families[\"Material\"]][\"Area\"].values[0])\n",
    "        ratings_train.loc[user][area_aux]=ratings_train.loc[user][area_aux]+user_ratings_train.loc[product]\n",
    "print(\"Minutes: \" + str((time.time() - start_time)/60.0))"
   ]
  },
  {
   "cell_type": "code",
   "execution_count": 10,
   "metadata": {
    "collapsed": false
   },
   "outputs": [
    {
     "name": "stdout",
     "output_type": "stream",
     "text": [
      "Minutes: 0.411310799917\n",
      "Minutes: 0.00176819960276\n",
      "Minutes: 0.864610314369\n"
     ]
    }
   ],
   "source": [
    "# Create ratings test\n",
    "start_time = time.time()\n",
    "ratings_test=pd.DataFrame(index=prod.index, columns=ProductsList)\n",
    "ratings_test=ratings_test.fillna(0.0)\n",
    "for item in test_index.keys():\n",
    "    for user in test_index[item]:\n",
    "        ratings_test[item][user]=ratings[item][user]\n",
    "print(\"Minutes: \" + str((time.time() - start_time)/60.0))\n",
    "\n",
    "# Add area columns\n",
    "start_time = time.time()\n",
    "for area in families[\"Area\"].unique():\n",
    "    area_name=\"A\"+str(area)\n",
    "    ratings_test[area_name]=0.0\n",
    "print(\"Minutes: \" + str((time.time() - start_time)/60.0))\n",
    "\n",
    "# Add area ratings_test\n",
    "start_time = time.time()\n",
    "for user in ratings_test.index:\n",
    "    user_ratings_test=ratings_test.loc[user][ratings_test.loc[user]!=0.0]\n",
    "    for product in user_ratings_test.index:\n",
    "        area_aux=\"A\"+str(families[product==families[\"Material\"]][\"Area\"].values[0])\n",
    "        ratings_test.loc[user][area_aux]=ratings_test.loc[user][area_aux]+user_ratings_test.loc[product]\n",
    "print(\"Minutes: \" + str((time.time() - start_time)/60.0))"
   ]
  },
  {
   "cell_type": "code",
   "execution_count": 11,
   "metadata": {
    "collapsed": false
   },
   "outputs": [
    {
     "name": "stdout",
     "output_type": "stream",
     "text": [
      "Minutes: 0.00174264907837\n",
      "Minutes: 5.22993803422\n"
     ]
    }
   ],
   "source": [
    "# Add area columns\n",
    "start_time = time.time()\n",
    "for area in families[\"Area\"].unique():\n",
    "    area_name=\"A\"+str(area)\n",
    "    ratings[area_name]=0.0\n",
    "print(\"Minutes: \" + str((time.time() - start_time)/60.0))\n",
    "\n",
    "# Add area ratings\n",
    "start_time = time.time()\n",
    "for user in ratings.index:\n",
    "    user_ratings=ratings.loc[user][ratings.loc[user]!=0.0]\n",
    "    for product in user_ratings.index:\n",
    "        area_aux=\"A\"+str(families[product==families[\"Material\"]][\"Area\"].values[0])\n",
    "        ratings.loc[user][area_aux]=ratings.loc[user][area_aux]+user_ratings.loc[product]\n",
    "print(\"Minutes: \" + str((time.time() - start_time)/60.0))"
   ]
  },
  {
   "cell_type": "code",
   "execution_count": 12,
   "metadata": {
    "collapsed": false
   },
   "outputs": [],
   "source": [
    "#Transpose ratings matrix\n",
    "ratings=ratings.transpose()\n",
    "ratings_train=ratings_train.transpose()\n",
    "ratings_test=ratings_test.transpose()"
   ]
  },
  {
   "cell_type": "code",
   "execution_count": 13,
   "metadata": {
    "collapsed": true
   },
   "outputs": [],
   "source": [
    "# Create train\n",
    "train_list=[]\n",
    "train_cont=[]\n",
    "\n",
    "for user in ratings_train.index:\n",
    "    aux=list(ratings_train.loc[user][ratings_train.loc[user]!=0.0].index)\n",
    "    train_list.append(aux)\n",
    "    train_cont.append(len(aux))\n",
    "\n",
    "train=pd.DataFrame(index=ratings_train.index, columns=[\"items\", \"#items\"])\n",
    "train[\"items\"]=train_list\n",
    "train[\"#items\"]=train_cont\n",
    "\n",
    "# Create test\n",
    "test_list=[]\n",
    "test_cont=[]\n",
    "for user in ratings_test.index:\n",
    "    aux=list(ratings_test.loc[user][ratings_test.loc[user]!=0.0].index)\n",
    "    test_list.append(aux)\n",
    "    test_cont.append(len(aux))\n",
    "\n",
    "test=pd.DataFrame(index=ratings_test.index, columns=[\"items\", \"#items\"])\n",
    "test[\"items\"]=test_list\n",
    "test[\"#items\"]=test_cont\n",
    "\n",
    "test=test.loc[intersect(train.index, test.index)]"
   ]
  },
  {
   "cell_type": "code",
   "execution_count": 14,
   "metadata": {
    "collapsed": true
   },
   "outputs": [],
   "source": [
    "#Pearson Similarity function\n",
    "def SimPearson(df, df_t,User1,User2,min_common_items=1):\n",
    "    # GET ITEMS OF USER1\n",
    "    item_user1=df_t[df_t.index ==User1 ]\n",
    "    # GET ITEMS OF USER2\n",
    "    item_user2=df_t[df_t.index ==User2 ]\n",
    "    \n",
    "    # FIND SHARED ITEMS\n",
    "    rep=intersect(item_user1['items'].values[0], item_user2['items'].values[0])\n",
    "    if len(rep)==0:\n",
    "        return 0\n",
    "    if(len(rep)<min_common_items):\n",
    "        return 0\n",
    "    res=pearsonr(np.array(df[df.index ==User1 ][rep]).flatten(),np.array(df[df.index ==User2 ][rep]).flatten())[0]\n",
    "    if(isnan(res)):\n",
    "        return 0\n",
    "    return res"
   ]
  },
  {
   "cell_type": "code",
   "execution_count": 15,
   "metadata": {
    "collapsed": false
   },
   "outputs": [
    {
     "name": "stderr",
     "output_type": "stream",
     "text": [
      "/home/jps/anaconda/lib/python2.7/site-packages/scipy/stats/stats.py:3021: RuntimeWarning: invalid value encountered in double_scalars\n",
      "  r = r_num / r_den\n",
      "/home/jps/anaconda/lib/python2.7/site-packages/scipy/stats/stats.py:3031: RuntimeWarning: invalid value encountered in double_scalars\n",
      "  prob = _betai(0.5*df, 0.5, df/(df+t_squared))\n"
     ]
    },
    {
     "name": "stdout",
     "output_type": "stream",
     "text": [
      "100\n",
      "--- 749.359217167 seconds ---\n",
      "200\n",
      "--- 1477.01810002 seconds ---\n",
      "300\n",
      "--- 2216.083395 seconds ---\n",
      "400\n",
      "--- 2871.71996617 seconds ---\n",
      "500\n",
      "--- 3549.08439302 seconds ---\n",
      "600\n",
      "--- 4255.45197201 seconds ---\n",
      "700\n",
      "--- 4840.28896213 seconds ---\n",
      "800\n",
      "--- 5422.01657915 seconds ---\n",
      "900\n",
      "--- 5952.54363012 seconds ---\n",
      "1000\n",
      "--- 6457.68902397 seconds ---\n",
      "1100\n",
      "--- 6900.51081109 seconds ---\n",
      "1200\n",
      "--- 7318.15661907 seconds ---\n",
      "1300\n",
      "--- 7738.47240901 seconds ---\n",
      "1400\n",
      "--- 8108.26181602 seconds ---\n",
      "1500\n",
      "--- 8438.51025796 seconds ---\n",
      "1600\n",
      "--- 8745.60431099 seconds ---\n",
      "1700\n",
      "--- 9033.79122305 seconds ---\n",
      "1800\n",
      "--- 9272.78871918 seconds ---\n",
      "1900\n",
      "--- 9474.9797771 seconds ---\n",
      "2000\n",
      "--- 9633.81024599 seconds ---\n",
      "2100\n",
      "--- 9767.75849104 seconds ---\n",
      "2200\n",
      "--- 9866.18523002 seconds ---\n",
      "2300\n",
      "--- 9944.09261203 seconds ---\n",
      "2400\n",
      "--- 9997.78109097 seconds ---\n",
      "Minutes: 166.871407068\n"
     ]
    }
   ],
   "source": [
    "#Create Similarity Matrix\n",
    "start_time = time.time()\n",
    "\n",
    "sim_df = pd.DataFrame(index=train.index, columns=train.index)\n",
    "cont=1\n",
    "for u1 in train.index:\n",
    "    for u2 in train.index[cont:]:\n",
    "        #print u1, u2, SimPearson(df, training, u1, u2)\n",
    "        #sim_df[u1][sim_df.index==u2]=SimPearson(df, training, u1, u2)\n",
    "        #sim_df[u1][u2]=SimPearson(df, training, u1, u2)\n",
    "        sim_df.set_value(index=u2, col=u1, value=SimPearson(ratings_train, train, u1, u2))\n",
    "    cont=cont+1\n",
    "    if cont%100==0:\n",
    "        print cont\n",
    "        print(\"--- %s seconds ---\" % (time.time() - start_time))\n",
    "\n",
    "print(\"Minutes: \" + str((time.time() - start_time)/60.0))"
   ]
  },
  {
   "cell_type": "code",
   "execution_count": 16,
   "metadata": {
    "collapsed": true
   },
   "outputs": [],
   "source": [
    "# Predict function\n",
    "def predict(df, sim_df, user, item, k=10, tol=0.01):\n",
    "    aux=sim_df.loc[user][sim_df.loc[user].notnull()==True]\n",
    "    auxx=sim_df[user][sim_df[user].notnull()==True]\n",
    "    sim_sorted=aux.append(auxx).sort_values(ascending=False)\n",
    "    posible_users=df.index[df[item]!=0.0]\n",
    "    posible_users=list(set(posible_users)-set([user]))\n",
    "    if len(posible_users)<k:\n",
    "        k=len(posible_users)\n",
    "    sim_sorted=sim_sorted.loc[posible_users].sort_values(ascending=False)\n",
    "    top_k_sim=sim_sorted[:k]\n",
    "    top_k_sim=top_k_sim[top_k_sim>=tol]\n",
    "    k=top_k_sim[top_k_sim>=tol].count()\n",
    "    if k==0:\n",
    "        return 0.0\n",
    "    pred=0.0\n",
    "    div=1.e-16\n",
    "    for i in np.arange(k):\n",
    "        aux_pred=top_k_sim.iloc[i]*df[df.index==top_k_sim.index[i]][item].values[0]\n",
    "        pred=pred+aux_pred\n",
    "        div=div+top_k_sim.iloc[i]\n",
    "    if div==0.0:\n",
    "        div=1.e-16\n",
    "    pred=pred/div\n",
    "    return pred"
   ]
  },
  {
   "cell_type": "code",
   "execution_count": 17,
   "metadata": {
    "collapsed": true
   },
   "outputs": [],
   "source": [
    "# Predict function\n",
    "def predict_with_mean(df, sim_df, user, item, k=10, tol=0.01):\n",
    "    aux=sim_df.loc[user][sim_df.loc[user].notnull()==True]\n",
    "    auxx=sim_df[user][sim_df[user].notnull()==True]\n",
    "    sim_sorted=aux.append(auxx).sort_values(ascending=False)\n",
    "    posible_users=df.index[df[item]!=0.0]\n",
    "    posible_users=list(set(posible_users)-set([user]))\n",
    "    if len(posible_users)<k:\n",
    "        k=len(posible_users)\n",
    "    sim_sorted=sim_sorted.loc[posible_users].sort_values(ascending=False)\n",
    "    top_k_sim=sim_sorted[:k]\n",
    "    top_k_sim=top_k_sim[top_k_sim>=tol]\n",
    "    k=top_k_sim[top_k_sim>=tol].count()\n",
    "    if k==0:\n",
    "        return 0.0\n",
    "    pred=0.0\n",
    "    div=1.e-16\n",
    "    for i in np.arange(k):\n",
    "        v=top_k_sim.index[i]\n",
    "        v_mean=df.loc[v][df.loc[v]!=0.0].mean()\n",
    "        aux_pred=top_k_sim.iloc[i]*(df[df.index==top_k_sim.index[i]][item].values[0])\n",
    "        pred=pred+aux_pred\n",
    "        div=div+top_k_sim.iloc[i]\n",
    "    u_mean=df.loc[user][df.loc[user]!=0.0].mean()\n",
    "    if div==0.0:\n",
    "        div=1.e-16\n",
    "    pred=u_mean+pred/div\n",
    "    return pred"
   ]
  },
  {
   "cell_type": "code",
   "execution_count": 18,
   "metadata": {
    "collapsed": false
   },
   "outputs": [
    {
     "name": "stdout",
     "output_type": "stream",
     "text": [
      "k = 5\n",
      "Minutes: 14.8617559512\n",
      "MAE: 0.00424800692116\n",
      "MAE with 20 or less ratings: 0.00230458162816\n",
      "k = 10\n",
      "Minutes: 17.4308044831\n",
      "MAE: 0.00440484817645\n",
      "MAE with 20 or less ratings: 0.00246811577115\n",
      "k = 15\n",
      "Minutes: 22.6560935855\n",
      "MAE: 0.00448958170152\n",
      "MAE with 20 or less ratings: 0.00258752041523\n",
      "k = 20\n",
      "Minutes: 26.0076159159\n",
      "MAE: 0.00454498287682\n",
      "MAE with 20 or less ratings: 0.00268841952882\n",
      "Best k = 5 with MAE = 0.00424800692116\n"
     ]
    }
   ],
   "source": [
    "# Predict matrix\n",
    "k_candidates=[5,10,15,20]\n",
    "best_k=0\n",
    "best_mae=np.inf\n",
    "for k in k_candidates:\n",
    "    print \"k = \" + str(k)\n",
    "    start_time = time.time()\n",
    "    pred_df = pd.DataFrame(index=test.index, columns=ratings_test.columns)\n",
    "    evaluation=[]\n",
    "    for user in test.index:\n",
    "        items=test[\"items\"].loc[user]\n",
    "        for item in items:\n",
    "            pred=predict(ratings_test, sim_df, user, item, k)\n",
    "            diff=abs(pred-ratings_test[item][user])\n",
    "            evaluation_row= [user, item, pred, ratings_test[item][user], diff]\n",
    "            evaluation.append(evaluation_row)\n",
    "            pred_df[item][user]=pred\n",
    "    print(\"Minutes: \" + str((time.time() - start_time)/60.0))\n",
    "\n",
    "    evaluation_df=pd.DataFrame(evaluation, columns=[\"user\", \"item\", \"predict\", \"real\", \"diff\"])\n",
    "\n",
    "    print \"MAE: \" + str(evaluation_df[\"diff\"].mean())\n",
    "    \n",
    "    if evaluation_df[\"diff\"].mean()<best_mae:\n",
    "        best_k=k\n",
    "        best_mae=evaluation_df[\"diff\"].mean()\n",
    "\n",
    "    #MAE users with 20 or less ratings\n",
    "\n",
    "    users_less_ratings=[]\n",
    "    for u in ratings_test.index:\n",
    "        aux=ratings_test.loc[u].value_counts()\n",
    "        n=aux[aux.index!=0.0].sum()\n",
    "        if n<=20:\n",
    "            users_less_ratings.append(u)\n",
    "\n",
    "    mae_less_ratings=[]\n",
    "    for u in users_less_ratings:\n",
    "        if len(evaluation_df[evaluation_df[\"user\"]==u][\"diff\"])>0:\n",
    "            mae_less_ratings.append(evaluation_df[evaluation_df[\"user\"]==u][\"diff\"].mean())\n",
    "\n",
    "    print \"MAE with 20 or less ratings: \" + str(np.mean(mae_less_ratings))\n",
    "    evaluation_df.to_csv(\"../../Evaluation/evaluation_test_MAE_item_based_k=\" + str(k) + \".csv\", index=False)\n",
    "print \"Best k = \" + str(best_k) + \" with MAE = \" + str(best_mae)"
   ]
  },
  {
   "cell_type": "code",
   "execution_count": 19,
   "metadata": {
    "collapsed": true
   },
   "outputs": [],
   "source": [
    "#Identify families\n",
    "import re\n",
    "r = re.compile(\"^A\")\n",
    "area_colnames = filter(r.match, ratings.index)"
   ]
  },
  {
   "cell_type": "code",
   "execution_count": 20,
   "metadata": {
    "collapsed": false
   },
   "outputs": [
    {
     "name": "stdout",
     "output_type": "stream",
     "text": [
      "10\n",
      "Minutes: 3.69894973437\n",
      "20\n",
      "Minutes: 7.53454766671\n",
      "30\n",
      "Minutes: 11.1495921334\n",
      "40\n",
      "Minutes: 14.7548753659\n",
      "50\n",
      "Minutes: 18.5914375822\n",
      "60\n",
      "Minutes: 23.8157059153\n",
      "70\n",
      "Minutes: 29.0651351015\n",
      "80\n",
      "Minutes: 34.2607751489\n",
      "90\n",
      "Minutes: 39.1895183484\n",
      "100\n",
      "Minutes: 44.3696860353\n",
      "110\n",
      "Minutes: 48.8791554848\n",
      "120\n",
      "Minutes: 53.6406530341\n",
      "130\n",
      "Minutes: 58.6062925657\n",
      "140\n",
      "Minutes: 63.597916468\n",
      "150\n",
      "Minutes: 68.2967262348\n",
      "160\n",
      "Minutes: 73.013150684\n",
      "Minutes: 77.2892840823\n"
     ]
    }
   ],
   "source": [
    "# Predict matrix\n",
    "\n",
    "start_time = time.time()\n",
    "pred_df = pd.DataFrame(index=area_colnames, columns=ratings.columns)\n",
    "cont=0\n",
    "for user in area_colnames:\n",
    "    cont=cont+1\n",
    "    if cont%10==0:\n",
    "        print cont\n",
    "        print(\"Minutes: \" + str((time.time() - start_time)/60.0))\n",
    "    for item in ratings.columns:\n",
    "        pred=predict(ratings, sim_df, user, item, best_k)\n",
    "        pred_df[item][user]=pred\n",
    "print(\"Minutes: \" + str((time.time() - start_time)/60.0))"
   ]
  },
  {
   "cell_type": "code",
   "execution_count": 21,
   "metadata": {
    "collapsed": true
   },
   "outputs": [],
   "source": [
    "pred_df=pred_df.transpose()"
   ]
  },
  {
   "cell_type": "code",
   "execution_count": 22,
   "metadata": {
    "collapsed": true
   },
   "outputs": [],
   "source": [
    "#Normalize pred_df\n",
    "for user in pred_df.index:\n",
    "    if pred_df.loc[user].sum()!=0.0:\n",
    "        pred_df.loc[user]=pred_df.loc[user]/pred_df.loc[user].sum()"
   ]
  },
  {
   "cell_type": "code",
   "execution_count": 23,
   "metadata": {
    "collapsed": true
   },
   "outputs": [],
   "source": [
    "#Kullback-Leiber function\n",
    "def kl(p, q):\n",
    "    p = np.asarray(p, dtype=np.float)\n",
    "    q = np.asarray(q, dtype=np.float)\n",
    "    return np.sum(np.where((p != 0) & (q != 0), p * np.log(p / q), 0))"
   ]
  },
  {
   "cell_type": "code",
   "execution_count": 24,
   "metadata": {
    "collapsed": false
   },
   "outputs": [
    {
     "name": "stderr",
     "output_type": "stream",
     "text": [
      "/home/jps/anaconda/lib/python2.7/site-packages/ipykernel/__main__.py:5: RuntimeWarning: invalid value encountered in divide\n",
      "/home/jps/anaconda/lib/python2.7/site-packages/ipykernel/__main__.py:5: RuntimeWarning: divide by zero encountered in log\n",
      "/home/jps/anaconda/lib/python2.7/site-packages/ipykernel/__main__.py:5: RuntimeWarning: invalid value encountered in multiply\n"
     ]
    }
   ],
   "source": [
    "#Compute Kullback-Leiber divergence\n",
    "KL=pd.DataFrame(index=pred_df.index, columns=[\"KL\"])\n",
    "for user in pred_df.index:\n",
    "    KL[\"KL\"][user]=kl(p=ratings.loc[area_colnames][user], q=pred_df.loc[user])"
   ]
  },
  {
   "cell_type": "code",
   "execution_count": 25,
   "metadata": {
    "collapsed": false
   },
   "outputs": [
    {
     "name": "stdout",
     "output_type": "stream",
     "text": [
      "Mean: 2.29025047653\n"
     ]
    },
    {
     "data": {
      "image/png": "[encoded data removed]",
      "text/plain": [
       "<matplotlib.figure.Figure at 0x7f797a336910>"
      ]
     },
     "metadata": {},
     "output_type": "display_data"
    }
   ],
   "source": [
    "#Histogram Kullback-Leiber divergence\n",
    "%matplotlib inline\n",
    "KL[\"KL\"].hist()\n",
    "print \"Mean: \" + str(KL[\"KL\"].mean())"
   ]
  },
  {
   "cell_type": "code",
   "execution_count": 26,
   "metadata": {
    "collapsed": true
   },
   "outputs": [],
   "source": [
    "KL.to_csv(\"../../KL_evaluation/kl_evaluation_item_based.csv\")"
   ]
  },
  {
   "cell_type": "code",
   "execution_count": 27,
   "metadata": {
    "collapsed": true
   },
   "outputs": [],
   "source": [
    "output=pd.DataFrame(index=pred_df.index, columns=[\"TOP\", \"values\", \"real_TOP\", \"real_values\", \"real_#\"])\n",
    "for user in pred_df.index:\n",
    "    output[\"TOP\"][user]=pred_df.loc[user].sort_values(ascending=False).index.tolist()\n",
    "    output[\"values\"][user]=pred_df.loc[user].sort_values(ascending=False).tolist()\n",
    "    output[\"real_#\"][user]=ratings[user][area_colnames][ratings[user][area_colnames]!=0.0].count()\n",
    "    output[\"real_TOP\"][user]=ratings[user][area_colnames][ratings[user][area_colnames]!=0.0].sort_values(ascending=False).index.tolist()\n",
    "    output[\"real_values\"][user]=ratings[user][area_colnames][ratings[user][area_colnames]!=0.0].sort_values(ascending=False).tolist()"
   ]
  },
  {
   "cell_type": "code",
   "execution_count": 28,
   "metadata": {
    "collapsed": true
   },
   "outputs": [],
   "source": [
    "output.to_csv(\"../../Output/output_item_based.csv\")"
   ]
  },
  {
   "cell_type": "code",
   "execution_count": 29,
   "metadata": {
    "collapsed": false
   },
   "outputs": [
    {
     "data": {
      "text/html": [
       "<div>\n",
       "<table border=\"1\" class=\"dataframe\">\n",
       "  <thead>\n",
       "    <tr style=\"text-align: right;\">\n",
       "      <th></th>\n",
       "      <th>TOP</th>\n",
       "      <th>values</th>\n",
       "      <th>real_TOP</th>\n",
       "      <th>real_values</th>\n",
       "      <th>real_#</th>\n",
       "    </tr>\n",
       "    <tr>\n",
       "      <th>Cliente</th>\n",
       "      <th></th>\n",
       "      <th></th>\n",
       "      <th></th>\n",
       "      <th></th>\n",
       "      <th></th>\n",
       "    </tr>\n",
       "  </thead>\n",
       "  <tbody>\n",
       "    <tr>\n",
       "      <th>95</th>\n",
       "      <td>[A237, A225, A169, A196, A305, A272, A344, A24...</td>\n",
       "      <td>[0.023516096504, 0.0168664552495, 0.0147956027...</td>\n",
       "      <td>[A225, A210, A275, A272, A195, A234, A280, A35...</td>\n",
       "      <td>[0.216, 0.064, 0.06, 0.06, 0.048, 0.044, 0.036...</td>\n",
       "      <td>48</td>\n",
       "    </tr>\n",
       "    <tr>\n",
       "      <th>10131</th>\n",
       "      <td>[A210, A236, A151, A195, A245, A315, A252, A21...</td>\n",
       "      <td>[0.0160867781166, 0.0160101316141, 0.015632031...</td>\n",
       "      <td>[A210, A236, A225, A207, A289, A230, A311, A16...</td>\n",
       "      <td>[0.119932432432, 0.114864864865, 0.04898648648...</td>\n",
       "      <td>56</td>\n",
       "    </tr>\n",
       "    <tr>\n",
       "      <th>10188</th>\n",
       "      <td>[A233, A265, A332, A205, A324, A207, A217, A26...</td>\n",
       "      <td>[0.0209641028759, 0.0205013457797, 0.017800614...</td>\n",
       "      <td>[A210, A205, A236, A289, A143, A207, A145, A31...</td>\n",
       "      <td>[0.114285714286, 0.0833333333333, 0.0642857142...</td>\n",
       "      <td>55</td>\n",
       "    </tr>\n",
       "    <tr>\n",
       "      <th>10262</th>\n",
       "      <td>[A345, A172, A331, A351, A210, A241, A294, A33...</td>\n",
       "      <td>[0.0154611321559, 0.0141907479041, 0.013379316...</td>\n",
       "      <td>[A210, A311, A289, A312, A226, A166, A205, A16...</td>\n",
       "      <td>[0.198630136986, 0.109589041096, 0.08219178082...</td>\n",
       "      <td>32</td>\n",
       "    </tr>\n",
       "    <tr>\n",
       "      <th>10362</th>\n",
       "      <td>[A207, A143, A325, A296, A239, A289, A151, A19...</td>\n",
       "      <td>[0.0430765647414, 0.0389633406798, 0.021058378...</td>\n",
       "      <td>[A143, A289, A205, A166, A207, A230, A210, A16...</td>\n",
       "      <td>[0.15595463138, 0.0812854442344, 0.06710775047...</td>\n",
       "      <td>91</td>\n",
       "    </tr>\n",
       "  </tbody>\n",
       "</table>\n",
       "</div>"
      ],
      "text/plain": [
       "                                                       TOP  \\\n",
       "Cliente                                                      \n",
       "95       [A237, A225, A169, A196, A305, A272, A344, A24...   \n",
       "10131    [A210, A236, A151, A195, A245, A315, A252, A21...   \n",
       "10188    [A233, A265, A332, A205, A324, A207, A217, A26...   \n",
       "10262    [A345, A172, A331, A351, A210, A241, A294, A33...   \n",
       "10362    [A207, A143, A325, A296, A239, A289, A151, A19...   \n",
       "\n",
       "                                                    values  \\\n",
       "Cliente                                                      \n",
       "95       [0.023516096504, 0.0168664552495, 0.0147956027...   \n",
       "10131    [0.0160867781166, 0.0160101316141, 0.015632031...   \n",
       "10188    [0.0209641028759, 0.0205013457797, 0.017800614...   \n",
       "10262    [0.0154611321559, 0.0141907479041, 0.013379316...   \n",
       "10362    [0.0430765647414, 0.0389633406798, 0.021058378...   \n",
       "\n",
       "                                                  real_TOP  \\\n",
       "Cliente                                                      \n",
       "95       [A225, A210, A275, A272, A195, A234, A280, A35...   \n",
       "10131    [A210, A236, A225, A207, A289, A230, A311, A16...   \n",
       "10188    [A210, A205, A236, A289, A143, A207, A145, A31...   \n",
       "10262    [A210, A311, A289, A312, A226, A166, A205, A16...   \n",
       "10362    [A143, A289, A205, A166, A207, A230, A210, A16...   \n",
       "\n",
       "                                               real_values real_#  \n",
       "Cliente                                                            \n",
       "95       [0.216, 0.064, 0.06, 0.06, 0.048, 0.044, 0.036...     48  \n",
       "10131    [0.119932432432, 0.114864864865, 0.04898648648...     56  \n",
       "10188    [0.114285714286, 0.0833333333333, 0.0642857142...     55  \n",
       "10262    [0.198630136986, 0.109589041096, 0.08219178082...     32  \n",
       "10362    [0.15595463138, 0.0812854442344, 0.06710775047...     91  "
      ]
     },
     "execution_count": 29,
     "metadata": {},
     "output_type": "execute_result"
    }
   ],
   "source": [
    "output.head()"
   ]
  },
  {
   "cell_type": "code",
   "execution_count": 30,
   "metadata": {
    "collapsed": true
   },
   "outputs": [],
   "source": [
    "#Recommendations output file\n",
    "recommendations=pd.DataFrame(index=pred_df.index, columns=[\"TOP12\", \"values\"])\n",
    "for user in pred_df.index:\n",
    "    recommendations[\"TOP12\"][user]=pred_df.loc[user][list(set(output[\"TOP\"][user])-set(output[\"real_TOP\"][user]))].sort_values(ascending=False).index.tolist()[:12]\n",
    "    recommendations[\"values\"][user]=pred_df.loc[user][list(set(output[\"TOP\"][user])-set(output[\"real_TOP\"][user]))].sort_values(ascending=False).tolist()[:12]"
   ]
  },
  {
   "cell_type": "code",
   "execution_count": 31,
   "metadata": {
    "collapsed": true
   },
   "outputs": [],
   "source": [
    "recommendations.to_csv(\"../../Recommendations/recommendations_item_based.csv\")"
   ]
  },
  {
   "cell_type": "code",
   "execution_count": 32,
   "metadata": {
    "collapsed": false
   },
   "outputs": [
    {
     "data": {
      "text/html": [
       "<div>\n",
       "<table border=\"1\" class=\"dataframe\">\n",
       "  <thead>\n",
       "    <tr style=\"text-align: right;\">\n",
       "      <th></th>\n",
       "      <th>TOP12</th>\n",
       "      <th>values</th>\n",
       "    </tr>\n",
       "    <tr>\n",
       "      <th>Cliente</th>\n",
       "      <th></th>\n",
       "      <th></th>\n",
       "    </tr>\n",
       "  </thead>\n",
       "  <tbody>\n",
       "    <tr>\n",
       "      <th>95</th>\n",
       "      <td>[A237, A169, A196, A305, A247, A227, A153, A26...</td>\n",
       "      <td>[0.023516096504, 0.0147956027263, 0.0130087883...</td>\n",
       "    </tr>\n",
       "    <tr>\n",
       "      <th>10131</th>\n",
       "      <td>[A151, A195, A245, A315, A252, A308, A241, A34...</td>\n",
       "      <td>[0.0156320317356, 0.0135231927034, 0.012920570...</td>\n",
       "    </tr>\n",
       "    <tr>\n",
       "      <th>10188</th>\n",
       "      <td>[A233, A265, A332, A217, A261, A208, A253, A32...</td>\n",
       "      <td>[0.0209641028759, 0.0205013457797, 0.017800614...</td>\n",
       "    </tr>\n",
       "    <tr>\n",
       "      <th>10262</th>\n",
       "      <td>[A345, A331, A351, A241, A338, A228, A325, A17...</td>\n",
       "      <td>[0.0154611321559, 0.0133793169663, 0.012950974...</td>\n",
       "    </tr>\n",
       "    <tr>\n",
       "      <th>10362</th>\n",
       "      <td>[A325, A208, A221, A305, A172, A360, A277, A25...</td>\n",
       "      <td>[0.021058378953, 0.00813148037372, 0.008106697...</td>\n",
       "    </tr>\n",
       "  </tbody>\n",
       "</table>\n",
       "</div>"
      ],
      "text/plain": [
       "                                                     TOP12  \\\n",
       "Cliente                                                      \n",
       "95       [A237, A169, A196, A305, A247, A227, A153, A26...   \n",
       "10131    [A151, A195, A245, A315, A252, A308, A241, A34...   \n",
       "10188    [A233, A265, A332, A217, A261, A208, A253, A32...   \n",
       "10262    [A345, A331, A351, A241, A338, A228, A325, A17...   \n",
       "10362    [A325, A208, A221, A305, A172, A360, A277, A25...   \n",
       "\n",
       "                                                    values  \n",
       "Cliente                                                     \n",
       "95       [0.023516096504, 0.0147956027263, 0.0130087883...  \n",
       "10131    [0.0156320317356, 0.0135231927034, 0.012920570...  \n",
       "10188    [0.0209641028759, 0.0205013457797, 0.017800614...  \n",
       "10262    [0.0154611321559, 0.0133793169663, 0.012950974...  \n",
       "10362    [0.021058378953, 0.00813148037372, 0.008106697...  "
      ]
     },
     "execution_count": 32,
     "metadata": {},
     "output_type": "execute_result"
    }
   ],
   "source": [
    "recommendations.head()"
   ]
  },
  {
   "cell_type": "code",
   "execution_count": 33,
   "metadata": {
    "collapsed": false
   },
   "outputs": [
    {
     "name": "stdout",
     "output_type": "stream",
     "text": [
      "Stored 'df' (DataFrame)\n",
      "Stored 'families' (DataFrame)\n",
      "Stored 'ratings' (DataFrame)\n",
      "Stored 'ratings_train' (DataFrame)\n",
      "Stored 'ratings_test' (DataFrame)\n",
      "Stored 'train' (DataFrame)\n",
      "Stored 'test' (DataFrame)\n",
      "Stored 'sim_df' (DataFrame)\n",
      "Stored 'pred_df' (DataFrame)\n",
      "Stored 'output' (DataFrame)\n",
      "Stored 'recommendations' (DataFrame)\n"
     ]
    }
   ],
   "source": [
    "%store df\n",
    "%store families\n",
    "%store ratings\n",
    "%store ratings_train\n",
    "%store ratings_test\n",
    "%store train\n",
    "%store test\n",
    "%store sim_df\n",
    "%store pred_df\n",
    "%store output\n",
    "%store recommendations"
   ]
  },
  {
   "cell_type": "code",
   "execution_count": 34,
   "metadata": {
    "collapsed": false
   },
   "outputs": [
    {
     "name": "stdout",
     "output_type": "stream",
     "text": [
      "Total time in minutes: 348.077912935\n"
     ]
    }
   ],
   "source": [
    "print(\"Total time in minutes: \" + str((time.time() - global_time)/60.0))"
   ]
  },
  {
   "cell_type": "code",
   "execution_count": null,
   "metadata": {
    "collapsed": false
   },
   "outputs": [],
   "source": []
  }
 ],
 "metadata": {
  "kernelspec": {
   "display_name": "Python 2",
   "language": "python",
   "name": "python2"
  },
  "language_info": {
   "codemirror_mode": {
    "name": "ipython",
    "version": 2
   },
   "file_extension": ".py",
   "mimetype": "text/x-python",
   "name": "python",
   "nbconvert_exporter": "python",
   "pygments_lexer": "ipython2",
   "version": "2.7.12"
  }
 },
 "nbformat": 4,
 "nbformat_minor": 2
}
